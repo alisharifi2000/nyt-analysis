{
 "cells": [
  {
   "cell_type": "code",
   "execution_count": 3,
   "metadata": {
    "collapsed": true
   },
   "outputs": [],
   "source": [
    "import pickle\n",
    "import pandas as pd\n",
    "import numpy as np\n",
    "\n",
    "from pynyt import NYTArticleAPIObject\n",
    "import requests\n",
    "from bs4 import BeautifulSoup\n",
    "from textblob import TextBlob\n",
    "\n",
    "%matplotlib inline\n",
    "import matplotlib.pyplot as plt"
   ]
  },
  {
   "cell_type": "code",
   "execution_count": 52,
   "metadata": {
    "collapsed": true
   },
   "outputs": [],
   "source": [
    "df_1987.to_pickle('df_1987.pickle')\n",
    "df_2017.to_pickle('df_2017.pickle')"
   ]
  },
  {
   "cell_type": "code",
   "execution_count": 2,
   "metadata": {
    "collapsed": true
   },
   "outputs": [],
   "source": [
    "df_1987 = pd.read_pickle('df_1987.pickle')\n",
    "df_2017 = pd.read_pickle('df_2017.pickle')"
   ]
  },
  {
   "cell_type": "markdown",
   "metadata": {},
   "source": [
    "Whenever I visit home, I find a few hours to leaf through my parents' collection of old ('80s and '90s) National Geographic magazines. Although many of the magazine's advertisements are good for a quick laugh, I'm most fascinated by the longform articles—ambitious, sweeping stories spun across thirty pages or more, the product of many months of work for a writer-photographer team. The best of these articles succeed in distilling the essence of a place or culture into an hour's worth of text and images.\n",
    "\n",
    "Reading these magazines has led to my developing an interest in the evolution of journalism. Over the years, these lengthy expositions seem to have fallen out of favor, replaced by shorter, more specific articles; in my mind, articles of over thirty pages are definitely a thing of the past. As a newcomer to the field of data science, I thought it would be interesting to verify my intuition using real data. I set out to obtain articles from the past and present, with the goal of making comparisons and determining if enough difference existed to build a predictive model - could a relatively simple model predict whether an article was written recently or not-so-recently?\n",
    "\n",
    "Unfortunately, accessing National Geographic backlogs online requires a paid subscription. I quickly found an alternative in the New York Times, which allows free access (with daily limits) to its archives via the [Times Developer Network](https://developer.nytimes.com/). A variety of web APIs are provided, a few of which are very useful for combing lots of article data - I chose the Article Search API, which allows the user to narrow down a query using all of the extensive metadata fields. (An Article Search API key can be obtained at the above link.) A couple of Python wrappers do exist for the Article Search API, but none of them are actively maintained and I figured writing my own would be a good exercise, and a good opportunity to learn about the [requests](http://docs.python-requests.org/en/master/) library, among other things. My wrapper class can be found in pynyt.py—it worked very well for the purposes of this project, although there does seem to be a non-deterministic bug when making too many queries in a single notebook block."
   ]
  },
  {
   "cell_type": "code",
   "execution_count": 5,
   "metadata": {},
   "outputs": [
    {
     "data": {
      "text/plain": [
       "994"
      ]
     },
     "execution_count": 5,
     "metadata": {},
     "output_type": "execute_result"
    }
   ],
   "source": [
    "miner = NYTArticleAPIObject('my api key is a secret! get your own! mine mine mine')\n",
    "\n",
    "miner.get_usage()"
   ]
  },
  {
   "cell_type": "markdown",
   "metadata": {},
   "source": [
    "`get_usage()` returns the number of API calls permitted for the day, the limit being 1000. (Calling the function also consumes a precious API call—a truly unfortunate necessity.) There are more limitations: a query can only return up to 1000 article results; if a query is too broad, results past the thousandth article will be cut off. Additionally, the results are returned 10 at a time, across up to 100 pages, and grabbing each page requires an API call.\n",
    "\n",
    "For this project, these API limitations are inconsequential. I decided to grab 2,000 articles each from 2017 and 1987 - hopefully plenty for analysis and modeling, with more than half of my all-important API calls to spare. The Times publishes a wide variety of written material—in addition to traditional articles, material types include editorials, op-eds, columns, interviews, obituaries, and so forth. I wanted to limit this analysis to what I most readily associate with the New York Times: news stories written by Times reporters. The below queries pull 2,000 Times-sourced news articles each from the relevant years. Within a given year's results, 1,000 articles are from the foreign news desk and 1,000 are from the national news desk. This limitation is imposed with the additional goal of obtaining articles from 1987 and 2017 written about broadly similar topics (in order to focus the analysis and modeling on the style and conventions of the journalism itself, rather than the subject matter).\n",
    "\n",
    "The code is split into four blocks to avoid the aforementioned bug, the exact cause of which I have yet to determine. The results are returned as a list of dictionaries, each entry being a page of query results (i.e. data for up to 10 articles). The responses are supposed to be ordered by relevancy, although in actuality I think all matching results are returned in order of recency of publication. Even in that case, 2,000 articles for a given year should make for a week or two's worth of news from around the world, which ought to be a diverse enough dataset for this purpose."
   ]
  },
  {
   "cell_type": "code",
   "execution_count": 42,
   "metadata": {
    "collapsed": true
   },
   "outputs": [
    {
     "name": "stdout",
     "output_type": "stream",
     "text": [
      "6796 articles were found\n",
      "Processing page 0\n"
     ]
    },
    {
     "name": "stderr",
     "output_type": "stream",
     "text": [
      "/Users/sayed/Documents/0-Swarthmore/Projects/nyt-tech/pynyt.py:57: UserWarning: Only the first 1000 articles will be scraped, as per the API's paginator limit. Consider narrowing your search further (e.g. by date).\n",
      "  warnings.warn((\"Only the first 1000 articles will be scraped, as per the API's paginator limit. \"\n"
     ]
    },
    {
     "name": "stdout",
     "output_type": "stream",
     "text": [
      "Processing page 1\n",
      "Processing page 2\n",
      "Processing page 3\n",
      "Processing page 4\n",
      "Processing page 5\n",
      "Processing page 6\n",
      "Processing page 7\n",
      "Processing page 8\n",
      "Processing page 9\n",
      "Processing page 10\n",
      "Processing page 11\n",
      "Processing page 12\n",
      "Processing page 13\n",
      "Processing page 14\n",
      "Processing page 15\n",
      "Processing page 16\n",
      "Processing page 17\n",
      "Processing page 18\n",
      "Processing page 19\n",
      "Processing page 20\n",
      "Processing page 21\n",
      "Processing page 22\n",
      "Processing page 23\n",
      "Processing page 24\n",
      "Processing page 25\n",
      "Processing page 26\n",
      "Processing page 27\n",
      "Processing page 28\n",
      "Processing page 29\n",
      "Processing page 30\n",
      "Processing page 31\n",
      "Processing page 32\n",
      "Processing page 33\n",
      "Processing page 34\n",
      "Processing page 35\n",
      "Processing page 36\n",
      "Processing page 37\n",
      "Processing page 38\n",
      "Processing page 39\n",
      "Processing page 40\n",
      "Processing page 41\n",
      "Processing page 42\n",
      "Processing page 43\n",
      "Processing page 44\n",
      "Processing page 45\n",
      "Processing page 46\n",
      "Processing page 47\n",
      "Processing page 48\n",
      "Processing page 49\n",
      "Processing page 50\n",
      "Processing page 51\n",
      "Processing page 52\n",
      "Processing page 53\n",
      "Processing page 54\n",
      "Processing page 55\n",
      "Processing page 56\n",
      "Processing page 57\n",
      "Processing page 58\n",
      "Processing page 59\n",
      "Processing page 60\n",
      "Processing page 61\n",
      "Processing page 62\n",
      "Processing page 63\n",
      "Processing page 64\n",
      "Processing page 65\n",
      "Processing page 66\n",
      "Processing page 67\n",
      "Processing page 68\n",
      "Processing page 69\n",
      "Processing page 70\n",
      "Processing page 71\n",
      "Processing page 72\n",
      "Processing page 73\n",
      "Processing page 74\n",
      "Processing page 75\n",
      "Processing page 76\n",
      "Processing page 77\n",
      "Processing page 78\n",
      "Processing page 79\n",
      "Processing page 80\n",
      "Processing page 81\n",
      "Processing page 82\n",
      "Processing page 83\n",
      "Processing page 84\n",
      "Processing page 85\n",
      "Processing page 86\n",
      "Processing page 87\n",
      "Processing page 88\n",
      "Processing page 89\n",
      "Processing page 90\n",
      "Processing page 91\n",
      "Processing page 92\n",
      "Processing page 93\n",
      "Processing page 94\n",
      "Processing page 95\n",
      "Processing page 96\n",
      "Processing page 97\n",
      "Processing page 98\n",
      "Processing page 99\n"
     ]
    }
   ],
   "source": [
    "results_1987 = miner.query(fq = {'source': 'New York Times',\n",
    "                                  'news_desk': 'Foreign',\n",
    "                                  'type_of_material': 'News'},\n",
    "                            begin_date = 19870101,\n",
    "                            end_date = 19871231,\n",
    "                            halt_overflow = False)\n"
   ]
  },
  {
   "cell_type": "code",
   "execution_count": 43,
   "metadata": {
    "collapsed": true
   },
   "outputs": [
    {
     "name": "stdout",
     "output_type": "stream",
     "text": [
      "9702 articles were found\n",
      "Processing page 0\n"
     ]
    },
    {
     "name": "stderr",
     "output_type": "stream",
     "text": [
      "/Users/sayed/Documents/0-Swarthmore/Projects/nyt-tech/pynyt.py:57: UserWarning: Only the first 1000 articles will be scraped, as per the API's paginator limit. Consider narrowing your search further (e.g. by date).\n",
      "  warnings.warn((\"Only the first 1000 articles will be scraped, as per the API's paginator limit. \"\n"
     ]
    },
    {
     "name": "stdout",
     "output_type": "stream",
     "text": [
      "Processing page 1\n",
      "Processing page 2\n",
      "Processing page 3\n",
      "Processing page 4\n",
      "Processing page 5\n",
      "Processing page 6\n",
      "Processing page 7\n",
      "Processing page 8\n",
      "Processing page 9\n",
      "Processing page 10\n",
      "Processing page 11\n",
      "Processing page 12\n",
      "Processing page 13\n",
      "Processing page 14\n",
      "Processing page 15\n",
      "Processing page 16\n",
      "Processing page 17\n",
      "Processing page 18\n",
      "Processing page 19\n",
      "Processing page 20\n",
      "Processing page 21\n",
      "Processing page 22\n",
      "Processing page 23\n",
      "Processing page 24\n",
      "Processing page 25\n",
      "Processing page 26\n",
      "Processing page 27\n",
      "Processing page 28\n",
      "Processing page 29\n",
      "Processing page 30\n",
      "Processing page 31\n",
      "Processing page 32\n",
      "Processing page 33\n",
      "Processing page 34\n",
      "Processing page 35\n",
      "Processing page 36\n",
      "Processing page 37\n",
      "Processing page 38\n",
      "Processing page 39\n",
      "Processing page 40\n",
      "Processing page 41\n",
      "Processing page 42\n",
      "Processing page 43\n",
      "Processing page 44\n",
      "Processing page 45\n",
      "Processing page 46\n",
      "Processing page 47\n",
      "Processing page 48\n",
      "Processing page 49\n",
      "Processing page 50\n",
      "Processing page 51\n",
      "Processing page 52\n",
      "Processing page 53\n",
      "Processing page 54\n",
      "Processing page 55\n",
      "Processing page 56\n",
      "Processing page 57\n",
      "Processing page 58\n",
      "Processing page 59\n",
      "Processing page 60\n",
      "Processing page 61\n",
      "Processing page 62\n",
      "Processing page 63\n",
      "Processing page 64\n",
      "Processing page 65\n",
      "Processing page 66\n",
      "Processing page 67\n",
      "Processing page 68\n",
      "Processing page 69\n",
      "Processing page 70\n",
      "Processing page 71\n",
      "Processing page 72\n",
      "Processing page 73\n",
      "Processing page 74\n",
      "Processing page 75\n",
      "Processing page 76\n",
      "Processing page 77\n",
      "Processing page 78\n",
      "Processing page 79\n",
      "Processing page 80\n",
      "Processing page 81\n",
      "Processing page 82\n",
      "Processing page 83\n",
      "Processing page 84\n",
      "Processing page 85\n",
      "Processing page 86\n",
      "Processing page 87\n",
      "Processing page 88\n",
      "Processing page 89\n",
      "Processing page 90\n",
      "Processing page 91\n",
      "Processing page 92\n",
      "Processing page 93\n",
      "Processing page 94\n",
      "Processing page 95\n",
      "Processing page 96\n",
      "Processing page 97\n",
      "Processing page 98\n",
      "Processing page 99\n"
     ]
    }
   ],
   "source": [
    "results_1987 += miner.query(fq = {'source': 'New York Times',\n",
    "                                 'news_desk': 'National',\n",
    "                                 'type_of_material': 'News'},\n",
    "                            begin_date = 19870101,\n",
    "                            end_date = 19871231,\n",
    "                            halt_overflow = False)"
   ]
  },
  {
   "cell_type": "code",
   "execution_count": 44,
   "metadata": {
    "collapsed": true
   },
   "outputs": [
    {
     "name": "stdout",
     "output_type": "stream",
     "text": [
      "3612 articles were found\n",
      "Processing page 0\n"
     ]
    },
    {
     "name": "stderr",
     "output_type": "stream",
     "text": [
      "/Users/sayed/Documents/0-Swarthmore/Projects/nyt-tech/pynyt.py:57: UserWarning: Only the first 1000 articles will be scraped, as per the API's paginator limit. Consider narrowing your search further (e.g. by date).\n",
      "  warnings.warn((\"Only the first 1000 articles will be scraped, as per the API's paginator limit. \"\n"
     ]
    },
    {
     "name": "stdout",
     "output_type": "stream",
     "text": [
      "Processing page 1\n",
      "Processing page 2\n",
      "Processing page 3\n",
      "Processing page 4\n",
      "Processing page 5\n",
      "Processing page 6\n",
      "Processing page 7\n",
      "Processing page 8\n",
      "Processing page 9\n",
      "Processing page 10\n",
      "Processing page 11\n",
      "Processing page 12\n",
      "Processing page 13\n",
      "Processing page 14\n",
      "Processing page 15\n",
      "Processing page 16\n",
      "Processing page 17\n",
      "Processing page 18\n",
      "Processing page 19\n",
      "Processing page 20\n",
      "Processing page 21\n",
      "Processing page 22\n",
      "Processing page 23\n",
      "Processing page 24\n",
      "Processing page 25\n",
      "Processing page 26\n",
      "Processing page 27\n",
      "Processing page 28\n",
      "Processing page 29\n",
      "Processing page 30\n",
      "Processing page 31\n",
      "Processing page 32\n",
      "Processing page 33\n",
      "Processing page 34\n",
      "Processing page 35\n",
      "Processing page 36\n",
      "Processing page 37\n",
      "Processing page 38\n",
      "Processing page 39\n",
      "Processing page 40\n",
      "Processing page 41\n",
      "Processing page 42\n",
      "Processing page 43\n",
      "Processing page 44\n",
      "Processing page 45\n",
      "Processing page 46\n",
      "Processing page 47\n",
      "Processing page 48\n",
      "Processing page 49\n",
      "Processing page 50\n",
      "Processing page 51\n",
      "Processing page 52\n",
      "Processing page 53\n",
      "Processing page 54\n",
      "Processing page 55\n",
      "Processing page 56\n",
      "Processing page 57\n",
      "Processing page 58\n",
      "Processing page 59\n",
      "Processing page 60\n",
      "Processing page 61\n",
      "Processing page 62\n",
      "Processing page 63\n",
      "Processing page 64\n",
      "Processing page 65\n",
      "Processing page 66\n",
      "Processing page 67\n",
      "Processing page 68\n",
      "Processing page 69\n",
      "Processing page 70\n",
      "Processing page 71\n",
      "Processing page 72\n",
      "Processing page 73\n",
      "Processing page 74\n",
      "Processing page 75\n",
      "Processing page 76\n",
      "Processing page 77\n",
      "Processing page 78\n",
      "Processing page 79\n",
      "Processing page 80\n",
      "Processing page 81\n",
      "Processing page 82\n",
      "Processing page 83\n",
      "Processing page 84\n",
      "Processing page 85\n",
      "Processing page 86\n",
      "Processing page 87\n",
      "Processing page 88\n",
      "Processing page 89\n",
      "Processing page 90\n",
      "Processing page 91\n",
      "Processing page 92\n",
      "Processing page 93\n",
      "Processing page 94\n",
      "Processing page 95\n",
      "Processing page 96\n",
      "Processing page 97\n",
      "Processing page 98\n",
      "Processing page 99\n"
     ]
    }
   ],
   "source": [
    "results_2017 = miner.query(fq = {'source': 'New York Times',\n",
    "                                 'news_desk': 'Foreign',\n",
    "                                 'type_of_material': 'News'},\n",
    "                           begin_date = 20170101,\n",
    "                           halt_overflow = False)"
   ]
  },
  {
   "cell_type": "code",
   "execution_count": 45,
   "metadata": {
    "collapsed": true
   },
   "outputs": [
    {
     "name": "stdout",
     "output_type": "stream",
     "text": [
      "3368 articles were found\n",
      "Processing page 0\n"
     ]
    },
    {
     "name": "stderr",
     "output_type": "stream",
     "text": [
      "/Users/sayed/Documents/0-Swarthmore/Projects/nyt-tech/pynyt.py:57: UserWarning: Only the first 1000 articles will be scraped, as per the API's paginator limit. Consider narrowing your search further (e.g. by date).\n",
      "  warnings.warn((\"Only the first 1000 articles will be scraped, as per the API's paginator limit. \"\n"
     ]
    },
    {
     "name": "stdout",
     "output_type": "stream",
     "text": [
      "Processing page 1\n",
      "Processing page 2\n",
      "Processing page 3\n",
      "Processing page 4\n",
      "Processing page 5\n",
      "Processing page 6\n",
      "Processing page 7\n",
      "Processing page 8\n",
      "Processing page 9\n",
      "Processing page 10\n",
      "Processing page 11\n",
      "Processing page 12\n",
      "Processing page 13\n",
      "Processing page 14\n",
      "Processing page 15\n",
      "Processing page 16\n",
      "Processing page 17\n",
      "Processing page 18\n",
      "Processing page 19\n",
      "Processing page 20\n",
      "Processing page 21\n",
      "Processing page 22\n",
      "Processing page 23\n",
      "Processing page 24\n",
      "Processing page 25\n",
      "Processing page 26\n",
      "Processing page 27\n",
      "Processing page 28\n",
      "Processing page 29\n",
      "Processing page 30\n",
      "Processing page 31\n",
      "Processing page 32\n",
      "Processing page 33\n",
      "Processing page 34\n",
      "Processing page 35\n",
      "Processing page 36\n",
      "Processing page 37\n",
      "Processing page 38\n",
      "Processing page 39\n",
      "Processing page 40\n",
      "Processing page 41\n",
      "Processing page 42\n",
      "Processing page 43\n",
      "Processing page 44\n",
      "Processing page 45\n",
      "Processing page 46\n",
      "Processing page 47\n",
      "Processing page 48\n",
      "Processing page 49\n",
      "Processing page 50\n",
      "Processing page 51\n",
      "Processing page 52\n",
      "Processing page 53\n",
      "Processing page 54\n",
      "Processing page 55\n",
      "Processing page 56\n",
      "Processing page 57\n",
      "Processing page 58\n",
      "Processing page 59\n",
      "Processing page 60\n",
      "Processing page 61\n",
      "Processing page 62\n",
      "Processing page 63\n",
      "Processing page 64\n",
      "Processing page 65\n",
      "Processing page 66\n",
      "Processing page 67\n",
      "Processing page 68\n",
      "Processing page 69\n",
      "Processing page 70\n",
      "Processing page 71\n",
      "Processing page 72\n",
      "Processing page 73\n",
      "Processing page 74\n",
      "Processing page 75\n",
      "Processing page 76\n",
      "Processing page 77\n",
      "Processing page 78\n",
      "Processing page 79\n",
      "Processing page 80\n",
      "Processing page 81\n",
      "Processing page 82\n",
      "Processing page 83\n",
      "Processing page 84\n",
      "Processing page 85\n",
      "Processing page 86\n",
      "Processing page 87\n",
      "Processing page 88\n",
      "Processing page 89\n",
      "Processing page 90\n",
      "Processing page 91\n",
      "Processing page 92\n",
      "Processing page 93\n",
      "Processing page 94\n",
      "Processing page 95\n",
      "Processing page 96\n",
      "Processing page 97\n",
      "Processing page 98\n",
      "Processing page 99\n"
     ]
    }
   ],
   "source": [
    "results_2017 += miner.query(fq = {'source': 'New York Times',\n",
    "                                  'news_desk': 'National',\n",
    "                                  'type_of_material': 'News'},\n",
    "                            begin_date = 20170101,\n",
    "                            halt_overflow = False)"
   ]
  },
  {
   "cell_type": "markdown",
   "metadata": {},
   "source": [
    "As illustrated [here](https://developer.nytimes.com/article_search_v2.json#/README) (scroll down to example responses), all sorts of metadata is returned, much of which I didn't think I would need to use. I was most interested in approaching this as a text classification study, so for a given article, all I really needed was the body of text and perhaps the headline and date. As it turned out, the responses do not contain the actual text of each article, so I also ended up having to grab each article's URL for scraping. These fields were loaded into another list of dictionaries for easy conversion to a Pandas dataframe shortly down the line.\n",
    "\n",
    "(In the below function, I accidentally pull the source of the article as well, which is unneccessary given that the query results were limited to those from the New York Times.)"
   ]
  },
  {
   "cell_type": "code",
   "execution_count": 46,
   "metadata": {
    "collapsed": true
   },
   "outputs": [],
   "source": [
    "def results_to_list(results): # not a great name - results is a list of dicts too\n",
    "    results_list = []\n",
    "    for i in range(len(results)):\n",
    "        for article in results[i]['response']['docs']:\n",
    "            source = ''\n",
    "            if 'source' in article:\n",
    "                source = article['source']\n",
    "            results_list.append({'date': article['pub_date'],\n",
    "                            'headline': article['headline']['main'],\n",
    "                            'web_url': article['web_url'],\n",
    "                            'source': source})\n",
    "    return results_list\n",
    "\n",
    "list_1987 = results_to_list(results_1987)\n",
    "list_2017 = results_to_list(results_2017)"
   ]
  },
  {
   "cell_type": "markdown",
   "metadata": {},
   "source": [
    "At this point, since the queries take a little while (the Article Search API has a rate limit of one query per second), the results were pickled for when I need to close/reopen the notebook. Unfortunately, I decided to pickle the watered-down lists instead of the actual query results, so for this specific set of articles, a bunch of the (potentially useful) metadata is lost. Always save your raw data!"
   ]
  },
  {
   "cell_type": "code",
   "execution_count": 47,
   "metadata": {},
   "outputs": [
    {
     "name": "stdout",
     "output_type": "stream",
     "text": [
      "2000\n"
     ]
    }
   ],
   "source": [
    "with open('list_1987.pickle', 'wb') as f:\n",
    "    pickle.dump(list_1987, f)\n",
    "with open('list_2017.pickle', 'wb') as f:\n",
    "    pickle.dump(list_2017, f)"
   ]
  },
  {
   "cell_type": "code",
   "execution_count": 2,
   "metadata": {
    "collapsed": true
   },
   "outputs": [],
   "source": [
    "with open('list_1987.pickle', 'rb') as f:\n",
    "    list_1987 = pickle.load(f)\n",
    "with open('list_2017.pickle', 'rb') as f:\n",
    "    list_2017 = pickle.load(f)"
   ]
  },
  {
   "cell_type": "code",
   "execution_count": 11,
   "metadata": {},
   "outputs": [
    {
     "data": {
      "text/html": [
       "<div>\n",
       "<style>\n",
       "    .dataframe thead tr:only-child th {\n",
       "        text-align: right;\n",
       "    }\n",
       "\n",
       "    .dataframe thead th {\n",
       "        text-align: left;\n",
       "    }\n",
       "\n",
       "    .dataframe tbody tr th {\n",
       "        vertical-align: top;\n",
       "    }\n",
       "</style>\n",
       "<table border=\"1\" class=\"dataframe\">\n",
       "  <thead>\n",
       "    <tr style=\"text-align: right;\">\n",
       "      <th></th>\n",
       "      <th>date</th>\n",
       "      <th>headline</th>\n",
       "      <th>source</th>\n",
       "      <th>web_url</th>\n",
       "    </tr>\n",
       "  </thead>\n",
       "  <tbody>\n",
       "    <tr>\n",
       "      <th>0</th>\n",
       "      <td>1987-12-31T00:00:00Z</td>\n",
       "      <td>The Hills Are Not Alive With the Swoosh of Skis</td>\n",
       "      <td>The New York Times</td>\n",
       "      <td>https://www.nytimes.com/1987/12/31/world/the-h...</td>\n",
       "    </tr>\n",
       "    <tr>\n",
       "      <th>1</th>\n",
       "      <td>1987-12-31T00:00:00Z</td>\n",
       "      <td>Kabul Says a Convoy Breaks Siege of a City</td>\n",
       "      <td>The New York Times</td>\n",
       "      <td>https://www.nytimes.com/1987/12/31/world/kabul...</td>\n",
       "    </tr>\n",
       "    <tr>\n",
       "      <th>2</th>\n",
       "      <td>1987-12-31T00:00:00Z</td>\n",
       "      <td>Al Ghourayib Journal; And if the Nile Dries Up...</td>\n",
       "      <td>The New York Times</td>\n",
       "      <td>https://www.nytimes.com/1987/12/31/world/al-gh...</td>\n",
       "    </tr>\n",
       "    <tr>\n",
       "      <th>3</th>\n",
       "      <td>1987-12-31T00:00:00Z</td>\n",
       "      <td>Salvador Court Frees 2 Killers of Americans</td>\n",
       "      <td>The New York Times</td>\n",
       "      <td>https://www.nytimes.com/1987/12/31/world/salva...</td>\n",
       "    </tr>\n",
       "    <tr>\n",
       "      <th>4</th>\n",
       "      <td>1987-12-31T00:00:00Z</td>\n",
       "      <td>Rights Group Invited to Moscow For Week of Tal...</td>\n",
       "      <td>The New York Times</td>\n",
       "      <td>https://www.nytimes.com/1987/12/31/world/right...</td>\n",
       "    </tr>\n",
       "  </tbody>\n",
       "</table>\n",
       "</div>"
      ],
      "text/plain": [
       "                   date                                           headline  \\\n",
       "0  1987-12-31T00:00:00Z    The Hills Are Not Alive With the Swoosh of Skis   \n",
       "1  1987-12-31T00:00:00Z         Kabul Says a Convoy Breaks Siege of a City   \n",
       "2  1987-12-31T00:00:00Z  Al Ghourayib Journal; And if the Nile Dries Up...   \n",
       "3  1987-12-31T00:00:00Z        Salvador Court Frees 2 Killers of Americans   \n",
       "4  1987-12-31T00:00:00Z  Rights Group Invited to Moscow For Week of Tal...   \n",
       "\n",
       "               source                                            web_url  \n",
       "0  The New York Times  https://www.nytimes.com/1987/12/31/world/the-h...  \n",
       "1  The New York Times  https://www.nytimes.com/1987/12/31/world/kabul...  \n",
       "2  The New York Times  https://www.nytimes.com/1987/12/31/world/al-gh...  \n",
       "3  The New York Times  https://www.nytimes.com/1987/12/31/world/salva...  \n",
       "4  The New York Times  https://www.nytimes.com/1987/12/31/world/right...  "
      ]
     },
     "execution_count": 11,
     "metadata": {},
     "output_type": "execute_result"
    }
   ],
   "source": [
    "df_1987 = pd.DataFrame(list_1987)\n",
    "df_2017 = pd.DataFrame(list_2017)\n",
    "\n",
    "df_1987.head()"
   ]
  },
  {
   "cell_type": "markdown",
   "metadata": {},
   "source": [
    "With the data from the API queries loaded into dataframes, the next step was to scrape the text from each article and add it to the dataframes. This can be accomplished by using BeautifulSoup and inspecting New York Times article source code to find the right tags to search for. Looking at a few articles from 1987 and 2017, I determined that the text body was contained in paragraph tags with `itemprop='articleBody'` for 1987 articles and `class_='story-body-text story-content'` for 2017 articles. I wasn't sure if these were uniform conventions for the given years, and made sure to check for empty or very short strings (the result of a failure to find the right tags).\n",
    "\n",
    "No problematic articles were encountered in the 1987 dataframe, but get_text() failed to obtain any text for several 2017 articles, as seen in the output below."
   ]
  },
  {
   "cell_type": "code",
   "execution_count": 31,
   "metadata": {},
   "outputs": [
    {
     "data": {
      "text/html": [
       "<div>\n",
       "<style>\n",
       "    .dataframe thead tr:only-child th {\n",
       "        text-align: right;\n",
       "    }\n",
       "\n",
       "    .dataframe thead th {\n",
       "        text-align: left;\n",
       "    }\n",
       "\n",
       "    .dataframe tbody tr th {\n",
       "        vertical-align: top;\n",
       "    }\n",
       "</style>\n",
       "<table border=\"1\" class=\"dataframe\">\n",
       "  <thead>\n",
       "    <tr style=\"text-align: right;\">\n",
       "      <th></th>\n",
       "      <th>date</th>\n",
       "      <th>headline</th>\n",
       "      <th>source</th>\n",
       "      <th>web_url</th>\n",
       "      <th>text</th>\n",
       "    </tr>\n",
       "  </thead>\n",
       "  <tbody>\n",
       "    <tr>\n",
       "      <th>0</th>\n",
       "      <td>1987-12-31T00:00:00Z</td>\n",
       "      <td>The Hills Are Not Alive With the Swoosh of Skis</td>\n",
       "      <td>The New York Times</td>\n",
       "      <td>https://www.nytimes.com/1987/12/31/world/the-h...</td>\n",
       "      <td>hi</td>\n",
       "    </tr>\n",
       "    <tr>\n",
       "      <th>1</th>\n",
       "      <td>1987-12-31T00:00:00Z</td>\n",
       "      <td>Kabul Says a Convoy Breaks Siege of a City</td>\n",
       "      <td>The New York Times</td>\n",
       "      <td>https://www.nytimes.com/1987/12/31/world/kabul...</td>\n",
       "      <td></td>\n",
       "    </tr>\n",
       "    <tr>\n",
       "      <th>2</th>\n",
       "      <td>1987-12-31T00:00:00Z</td>\n",
       "      <td>Al Ghourayib Journal; And if the Nile Dries Up...</td>\n",
       "      <td>The New York Times</td>\n",
       "      <td>https://www.nytimes.com/1987/12/31/world/al-gh...</td>\n",
       "      <td></td>\n",
       "    </tr>\n",
       "    <tr>\n",
       "      <th>3</th>\n",
       "      <td>1987-12-31T00:00:00Z</td>\n",
       "      <td>Salvador Court Frees 2 Killers of Americans</td>\n",
       "      <td>The New York Times</td>\n",
       "      <td>https://www.nytimes.com/1987/12/31/world/salva...</td>\n",
       "      <td></td>\n",
       "    </tr>\n",
       "    <tr>\n",
       "      <th>4</th>\n",
       "      <td>1987-12-31T00:00:00Z</td>\n",
       "      <td>Rights Group Invited to Moscow For Week of Tal...</td>\n",
       "      <td>The New York Times</td>\n",
       "      <td>https://www.nytimes.com/1987/12/31/world/right...</td>\n",
       "      <td></td>\n",
       "    </tr>\n",
       "  </tbody>\n",
       "</table>\n",
       "</div>"
      ],
      "text/plain": [
       "                   date                                           headline  \\\n",
       "0  1987-12-31T00:00:00Z    The Hills Are Not Alive With the Swoosh of Skis   \n",
       "1  1987-12-31T00:00:00Z         Kabul Says a Convoy Breaks Siege of a City   \n",
       "2  1987-12-31T00:00:00Z  Al Ghourayib Journal; And if the Nile Dries Up...   \n",
       "3  1987-12-31T00:00:00Z        Salvador Court Frees 2 Killers of Americans   \n",
       "4  1987-12-31T00:00:00Z  Rights Group Invited to Moscow For Week of Tal...   \n",
       "\n",
       "               source                                            web_url text  \n",
       "0  The New York Times  https://www.nytimes.com/1987/12/31/world/the-h...   hi  \n",
       "1  The New York Times  https://www.nytimes.com/1987/12/31/world/kabul...       \n",
       "2  The New York Times  https://www.nytimes.com/1987/12/31/world/al-gh...       \n",
       "3  The New York Times  https://www.nytimes.com/1987/12/31/world/salva...       \n",
       "4  The New York Times  https://www.nytimes.com/1987/12/31/world/right...       "
      ]
     },
     "execution_count": 31,
     "metadata": {},
     "output_type": "execute_result"
    }
   ],
   "source": [
    "# DELETE ME? ????? ?\n",
    "\n",
    "df_1987['text'] = \"\"\n",
    "df_2017['text'] = \"\"\n",
    "df_1987.set_value(0, 'text', 'hi')\n",
    "df_1987.head()"
   ]
  },
  {
   "cell_type": "code",
   "execution_count": 5,
   "metadata": {
    "collapsed": true,
    "scrolled": true
   },
   "outputs": [],
   "source": [
    "from bs4 import BeautifulSoup\n",
    "\n",
    "df_1987['text'] = \"\"\n",
    "df_2017['text'] = \"\"\n",
    "\n",
    "def get_text(df):\n",
    "    session = requests.Session()\n",
    "    \n",
    "    for i in range(len(df)):\n",
    "        if i % 100 == 0:\n",
    "            print('Processing url', i)\n",
    "        url = df.iloc[i]['web_url']\n",
    "        req = session.get(url)\n",
    "        soup = BeautifulSoup(req.text)\n",
    "        #paragraphs = soup.find_all('p', itemprop = 'articleBody') # 1987 articles\n",
    "        paragraphs = soup.find_all('p', class_='story-body-text story-content') # 2017 articles\n",
    "\n",
    "        txt = ''\n",
    "        for p in paragraphs: # newlines for nice printing + paragraph analysis\n",
    "            # txt += p.getText() # 1987 - newlines already written in\n",
    "            txt += p.getText() + \"\\n\" # 2017\n",
    "        if len(txt) < 100:\n",
    "            print(\"Problem with URL {}: {}\".format(i, url))\n",
    "        df.set_value(i, 'text', txt)\n",
    "    \n",
    "    return df\n",
    "\n",
    "# df_1987 = get_text(df_1987)\n",
    "df_2017 = get_text(df_2017)"
   ]
  },
  {
   "cell_type": "markdown",
   "metadata": {},
   "source": [
    "Looking at the problematic articles, it's apparent that the issue arises from the articles possessing an unusual layout, perhaps for web-only presentation. The text is contained in paragraph tags with a very long class name, which will not be reproduced here! The articles are re-scraped using said class name and the lengths of each new text is printed to check whether the class name applies to all of the problematic articles. A reasonable number of words are thus found for each of the articles, so it looks like no further fixes are required."
   ]
  },
  {
   "cell_type": "code",
   "execution_count": 101,
   "metadata": {
    "collapsed": true
   },
   "outputs": [
    {
     "name": "stdout",
     "output_type": "stream",
     "text": [
      "\n",
      "                    WASHINGTON, Dec. 6— \n",
      "                    As the United States and the Soviet Union prepare for summit talks on a new treaty to reduce long-range arms, a debate is intensifying over whether the American proposal would increase or decrease the vulnerability of the U.S. nuclear forces.        \n",
      "                    President Reagan campaigned for office in 1980 with a pledge to close the so-called ''window of vulnerability.'' According to this concept, the Soviet Union had a significant advantage because of its potential to destroy the American land-based missile force by using only part of its land-based missile force.        \n",
      "                    Reagan Administration officials have argued that an agreement on deep cuts in long-range arms would produce a more stable strategic balance because it would compel the Soviet Union to reduce is force of land-based missiles. The Administration has said that those missiles are the most suitable weapons for carrying out an attack on American missile silos.        \n",
      "                    ''If you get them to cut back sharply on the number of their warheads on land-based missiles, they have less of an advantage than they have today,'' said Edward L. Rowny, a conservative adviser to President Reagan. Critics See Worse Problem        \n",
      "                    But critics assert that the American proposal on reducing long-range arms would not correct this potential problem and could slightly worsen the American disadvantage.        \n",
      "                    If the American proposal were accepted, said Brent Scowcroft, a former national security adviser, ''it is highly questionable whether we would be increasing stability. By any of the measures commonly used, stability would be impaired.''        \n",
      "                    According to intelligence experts, the ''heavy'' SS-18 is the only Soviet missile that has the accuracy and payload capability that could threaten the United States's 1,000 missile silos.        \n",
      "                    The Soviet Union has 308 of these SS-18 missiles, each of which is counted as having 10 warheads. Thus, there are three SS-18 warheads to aim at each American missile silo.        \n",
      "                    Under terms already agreed upon for a possible new treaty on reducing long-range arms, the Soviet Union would have to cut its force of SS-18 missiles in half.        \n",
      "                    But critics contend that such reductions would not alleviate the vulnerability problem because the United States would also be cutting the number of its land-based missiles that would be subject to attack by the SS-18.        \n",
      "                    Under the terms of the American proposal, there would be a limit of 4,800 on the total number of warheads on land- and sea-based ballistic missiles, as well as a ceiling of 3,300 on the number of warheads on land-based missiles. Land-based mobile missiles would be banned. Ratio Could Rise        \n",
      "                    Because of the type of American weapons being developed, some experts say, it is likely the United States would have about 250 to 350 silos for its land-based missiles under the treaty. The Soviet Union would still have four to six SS-18 warheads to aim at each American missile silo.        \n",
      "                    Some American experts say the vulnerability problem could be eased if the United States dropped its proposed ban on land-based mobile missiles, which would allow the United States to field a weapon that could elude attack.        \n",
      "                    ''From a stability standpoint, we should permit mobiles, while insisting upon complex and intrusive verification,'' said Edward L. Warner of the Rand Corporation.        \n",
      "                    Secretary of State George P. Shultz acknowledged today that ''mobile missiles have a lot to be said for them from the standpoint of their survivablity'' and suggested that this issue would be taken up in the summit talks this week.        \n",
      "                    ''We have said to the Soviet Union that we don't have an objection in principle to mobile missiles, but show us how you think the number can be verified,'' he said on the ABC news program ''This Week.'' Inconsistencies on Verification        \n",
      "                    But some critics say the Reagan Administration has inconsistently applied its concerns over verification.        \n",
      "                    One is James P. Rubin, assistant director of the Arms Control Association, a private group. ''On the one hand, the problem in verifying mobile missiles has led the Administration to call for a ban,'' he said. ''On the other hand, the problems in verifying sea-launched cruise missiles has led the Administration to propose the opposite. It has said that sea-launched cruise missiles should be unconstrained unless an acceptable verification plan is produced by the Soviets.''        \n",
      "                    While the Soviet Union is ahead in land-based mobile missiles, the United States is ahead in cruise missile technology.        \n",
      "                    Another important issue is whether the United States should modify its proposed force of submarine-launched ballistic missiles.        \n",
      "                    The Reagan Administration plans to put 24 missiles on each Trident submarine and to deploy some of these missiles with 12 warheads. Too Many Warheads on Subs        \n",
      "                    Some experts are concerned that this would concentrate too large number of warheads on too few submarines, perhaps about 15 of the vessels. About two-thirds of these would be at sea at any one time.        \n",
      "                    Mr. Warner suggested the United States might consider two steps that would enable it to field a larger submarine force under the treaty warhead limits.        \n",
      "                    He said the United States could drop its plans to test and deploy a new submarine missile with 12 warheads, as well as cut to 16 the number of missile-firing tubes on new Trident submarines.        \n",
      "                    The Administration is holding off on testing a new Trident missile with 12 warheads, but there is no indication that it has seriously thought of deploying Trident submarines with fewer missiles.        \n"
     ]
    }
   ],
   "source": [
    "print(df_1987.iloc[500]['text'])"
   ]
  },
  {
   "cell_type": "code",
   "execution_count": 52,
   "metadata": {
    "collapsed": true
   },
   "outputs": [],
   "source": [
    "df_1987.to_pickle('df_1987.pickle')\n",
    "df_2017.to_pickle('df_2017.pickle')"
   ]
  },
  {
   "cell_type": "code",
   "execution_count": 3,
   "metadata": {
    "collapsed": true
   },
   "outputs": [],
   "source": [
    "df_1987 = pd.read_pickle('df_1987.pickle')\n",
    "df_2017 = pd.read_pickle('df_2017.pickle')"
   ]
  },
  {
   "cell_type": "code",
   "execution_count": 22,
   "metadata": {},
   "outputs": [
    {
     "name": "stdout",
     "output_type": "stream",
     "text": [
      "Length 0 at URL 896: https://www.nytimes.com/2017/06/16/world/canada/the-times-in-canada.html\n",
      "Length 0 at URL 1264: https://www.nytimes.com/2017/07/21/us/politics/trump-communications-scaramucci-sanders.html\n",
      "Length 0 at URL 1340: https://www.nytimes.com/2017/07/17/us/politics/trump-laws-bills.html\n",
      "Length 0 at URL 1376: https://www.nytimes.com/2017/07/14/us/how-poems-inspire-pictures.html\n",
      "Length 0 at URL 1398: https://www.nytimes.com/2017/07/12/us/politics/trump-russia-election-meeting.html\n",
      "Length 0 at URL 1442: https://www.nytimes.com/2017/07/10/us/western-wildfires.html\n",
      "Length 0 at URL 1472: https://www.nytimes.com/2017/07/07/us/politics/senate-hobbies.html\n",
      "Length 0 at URL 1536: https://www.nytimes.com/2017/06/30/us/handmaids-protests-abortion.html\n",
      "Length 0 at URL 1612: https://www.nytimes.com/2017/06/25/us/extreme-heat-scorches-southern-arizona.html\n"
     ]
    },
    {
     "data": {
      "text/plain": [
       "[896, 1264, 1340, 1376, 1398, 1442, 1472, 1536, 1612]"
      ]
     },
     "execution_count": 22,
     "metadata": {},
     "output_type": "execute_result"
    }
   ],
   "source": [
    "# temp - remove when rerun above\n",
    "\n",
    "problem_indices = []\n",
    "for idx, article in df_2017.iterrows():\n",
    "    length = len(article['text'])\n",
    "    if length < 10:\n",
    "        print('Length {} at URL {}: {}'.format(length, idx, article['web_url']))\n",
    "        problem_indices.append(idx)\n",
    "        \n",
    "problem_indices"
   ]
  },
  {
   "cell_type": "code",
   "execution_count": 23,
   "metadata": {
    "scrolled": false
   },
   "outputs": [
    {
     "name": "stderr",
     "output_type": "stream",
     "text": [
      "/anaconda/envs/py3/lib/python3.6/site-packages/bs4/__init__.py:181: UserWarning: No parser was explicitly specified, so I'm using the best available HTML parser for this system (\"html5lib\"). This usually isn't a problem, but if you run this code on another system, or in a different virtual environment, it may use a different parser and behave differently.\n",
      "\n",
      "The code that caused this warning is on line 193 of the file /anaconda/envs/py3/lib/python3.6/runpy.py. To get rid of this warning, change code that looks like this:\n",
      "\n",
      " BeautifulSoup(YOUR_MARKUP})\n",
      "\n",
      "to this:\n",
      "\n",
      " BeautifulSoup(YOUR_MARKUP, \"html5lib\")\n",
      "\n",
      "  markup_type=markup_type))\n"
     ]
    },
    {
     "name": "stdout",
     "output_type": "stream",
     "text": [
      "2919\n",
      "4569\n",
      "14312\n",
      "10545\n",
      "10371\n",
      "3891\n",
      "9564\n",
      "5032\n",
      "4024\n"
     ]
    }
   ],
   "source": [
    "session = requests.Session()\n",
    "p_class = \"Paragraph-paragraph--2eXNE OakElement-paragraph--2e5h2 OakElement-left--2eGEj OakElement-toneFeature--uJSyt OakParagraph-headerHasNoLedeMedia--1Uoi7\"\n",
    "for idx in problem_indices:\n",
    "    url = df_2017.iloc[idx]['web_url']\n",
    "    req = session.get(url)\n",
    "    soup = BeautifulSoup(req.text)\n",
    "    paragraphs = soup.find_all('p', class_ = p_class)\n",
    "\n",
    "    txt = ''\n",
    "    for p in paragraphs:\n",
    "        txt += p.getText() + \"\\n\" # 2017\n",
    "        \n",
    "    print(len(txt.split()))\n",
    "    \n",
    "    df_2017.set_value(idx, 'text', txt)"
   ]
  },
  {
   "cell_type": "markdown",
   "metadata": {},
   "source": [
    "Now that all the articles have been scraped, one of the initial questions—whether article length has changed over time—can be answered. This code adds columns to the dataframe for article length in words, as well as headline length, for good measure."
   ]
  },
  {
   "cell_type": "code",
   "execution_count": 309,
   "metadata": {},
   "outputs": [
    {
     "data": {
      "text/html": [
       "<div>\n",
       "<style>\n",
       "    .dataframe thead tr:only-child th {\n",
       "        text-align: right;\n",
       "    }\n",
       "\n",
       "    .dataframe thead th {\n",
       "        text-align: left;\n",
       "    }\n",
       "\n",
       "    .dataframe tbody tr th {\n",
       "        vertical-align: top;\n",
       "    }\n",
       "</style>\n",
       "<table border=\"1\" class=\"dataframe\">\n",
       "  <thead>\n",
       "    <tr style=\"text-align: right;\">\n",
       "      <th></th>\n",
       "      <th>length</th>\n",
       "      <th>polarity</th>\n",
       "      <th>subjectivity</th>\n",
       "      <th>mean_sentence_length</th>\n",
       "      <th>num_paragraphs</th>\n",
       "      <th>mean_paragraph_length</th>\n",
       "      <th>headline_length</th>\n",
       "    </tr>\n",
       "  </thead>\n",
       "  <tbody>\n",
       "    <tr>\n",
       "      <th>count</th>\n",
       "      <td>2000.00000</td>\n",
       "      <td>2000.000000</td>\n",
       "      <td>2000.000000</td>\n",
       "      <td>2000.000000</td>\n",
       "      <td>2000.000000</td>\n",
       "      <td>2000.000000</td>\n",
       "      <td>2000.000000</td>\n",
       "    </tr>\n",
       "    <tr>\n",
       "      <th>mean</th>\n",
       "      <td>603.60700</td>\n",
       "      <td>0.054308</td>\n",
       "      <td>0.373114</td>\n",
       "      <td>23.949195</td>\n",
       "      <td>15.685000</td>\n",
       "      <td>38.142043</td>\n",
       "      <td>7.381000</td>\n",
       "    </tr>\n",
       "    <tr>\n",
       "      <th>std</th>\n",
       "      <td>326.77331</td>\n",
       "      <td>0.073908</td>\n",
       "      <td>0.095442</td>\n",
       "      <td>4.259242</td>\n",
       "      <td>7.924404</td>\n",
       "      <td>13.690003</td>\n",
       "      <td>2.433269</td>\n",
       "    </tr>\n",
       "    <tr>\n",
       "      <th>min</th>\n",
       "      <td>27.00000</td>\n",
       "      <td>-0.500000</td>\n",
       "      <td>0.000000</td>\n",
       "      <td>9.090909</td>\n",
       "      <td>1.000000</td>\n",
       "      <td>10.800000</td>\n",
       "      <td>1.000000</td>\n",
       "    </tr>\n",
       "    <tr>\n",
       "      <th>25%</th>\n",
       "      <td>324.00000</td>\n",
       "      <td>0.012960</td>\n",
       "      <td>0.325357</td>\n",
       "      <td>21.063497</td>\n",
       "      <td>9.000000</td>\n",
       "      <td>32.075549</td>\n",
       "      <td>6.000000</td>\n",
       "    </tr>\n",
       "    <tr>\n",
       "      <th>50%</th>\n",
       "      <td>631.00000</td>\n",
       "      <td>0.055558</td>\n",
       "      <td>0.379736</td>\n",
       "      <td>23.630604</td>\n",
       "      <td>16.000000</td>\n",
       "      <td>37.343137</td>\n",
       "      <td>7.000000</td>\n",
       "    </tr>\n",
       "    <tr>\n",
       "      <th>75%</th>\n",
       "      <td>857.25000</td>\n",
       "      <td>0.096405</td>\n",
       "      <td>0.428867</td>\n",
       "      <td>26.464493</td>\n",
       "      <td>21.000000</td>\n",
       "      <td>42.894737</td>\n",
       "      <td>9.000000</td>\n",
       "    </tr>\n",
       "    <tr>\n",
       "      <th>max</th>\n",
       "      <td>1361.00000</td>\n",
       "      <td>0.600000</td>\n",
       "      <td>1.000000</td>\n",
       "      <td>57.500000</td>\n",
       "      <td>44.000000</td>\n",
       "      <td>346.500000</td>\n",
       "      <td>25.000000</td>\n",
       "    </tr>\n",
       "  </tbody>\n",
       "</table>\n",
       "</div>"
      ],
      "text/plain": [
       "           length     polarity  subjectivity  mean_sentence_length  \\\n",
       "count  2000.00000  2000.000000   2000.000000           2000.000000   \n",
       "mean    603.60700     0.054308      0.373114             23.949195   \n",
       "std     326.77331     0.073908      0.095442              4.259242   \n",
       "min      27.00000    -0.500000      0.000000              9.090909   \n",
       "25%     324.00000     0.012960      0.325357             21.063497   \n",
       "50%     631.00000     0.055558      0.379736             23.630604   \n",
       "75%     857.25000     0.096405      0.428867             26.464493   \n",
       "max    1361.00000     0.600000      1.000000             57.500000   \n",
       "\n",
       "       num_paragraphs  mean_paragraph_length  headline_length  \n",
       "count     2000.000000            2000.000000      2000.000000  \n",
       "mean        15.685000              38.142043         7.381000  \n",
       "std          7.924404              13.690003         2.433269  \n",
       "min          1.000000              10.800000         1.000000  \n",
       "25%          9.000000              32.075549         6.000000  \n",
       "50%         16.000000              37.343137         7.000000  \n",
       "75%         21.000000              42.894737         9.000000  \n",
       "max         44.000000             346.500000        25.000000  "
      ]
     },
     "metadata": {},
     "output_type": "display_data"
    },
    {
     "data": {
      "text/html": [
       "<div>\n",
       "<style>\n",
       "    .dataframe thead tr:only-child th {\n",
       "        text-align: right;\n",
       "    }\n",
       "\n",
       "    .dataframe thead th {\n",
       "        text-align: left;\n",
       "    }\n",
       "\n",
       "    .dataframe tbody tr th {\n",
       "        vertical-align: top;\n",
       "    }\n",
       "</style>\n",
       "<table border=\"1\" class=\"dataframe\">\n",
       "  <thead>\n",
       "    <tr style=\"text-align: right;\">\n",
       "      <th></th>\n",
       "      <th>length</th>\n",
       "      <th>polarity</th>\n",
       "      <th>subjectivity</th>\n",
       "      <th>mean_sentence_length</th>\n",
       "      <th>num_paragraphs</th>\n",
       "      <th>mean_paragraph_length</th>\n",
       "      <th>headline_length</th>\n",
       "    </tr>\n",
       "  </thead>\n",
       "  <tbody>\n",
       "    <tr>\n",
       "      <th>count</th>\n",
       "      <td>2000.000000</td>\n",
       "      <td>2000.000000</td>\n",
       "      <td>2000.000000</td>\n",
       "      <td>2000.000000</td>\n",
       "      <td>2000.000000</td>\n",
       "      <td>2000.000000</td>\n",
       "      <td>2000.000000</td>\n",
       "    </tr>\n",
       "    <tr>\n",
       "      <th>mean</th>\n",
       "      <td>965.439500</td>\n",
       "      <td>0.056852</td>\n",
       "      <td>0.387228</td>\n",
       "      <td>27.821021</td>\n",
       "      <td>23.463000</td>\n",
       "      <td>41.911288</td>\n",
       "      <td>9.963500</td>\n",
       "    </tr>\n",
       "    <tr>\n",
       "      <th>std</th>\n",
       "      <td>445.391875</td>\n",
       "      <td>0.055530</td>\n",
       "      <td>0.063004</td>\n",
       "      <td>5.003114</td>\n",
       "      <td>11.436653</td>\n",
       "      <td>7.812405</td>\n",
       "      <td>1.880674</td>\n",
       "    </tr>\n",
       "    <tr>\n",
       "      <th>min</th>\n",
       "      <td>41.000000</td>\n",
       "      <td>-0.198056</td>\n",
       "      <td>0.000000</td>\n",
       "      <td>9.175000</td>\n",
       "      <td>1.000000</td>\n",
       "      <td>11.250000</td>\n",
       "      <td>3.000000</td>\n",
       "    </tr>\n",
       "    <tr>\n",
       "      <th>25%</th>\n",
       "      <td>628.000000</td>\n",
       "      <td>0.023458</td>\n",
       "      <td>0.349520</td>\n",
       "      <td>24.435619</td>\n",
       "      <td>16.000000</td>\n",
       "      <td>37.071206</td>\n",
       "      <td>9.000000</td>\n",
       "    </tr>\n",
       "    <tr>\n",
       "      <th>50%</th>\n",
       "      <td>937.500000</td>\n",
       "      <td>0.058852</td>\n",
       "      <td>0.391664</td>\n",
       "      <td>27.482051</td>\n",
       "      <td>22.000000</td>\n",
       "      <td>41.525000</td>\n",
       "      <td>10.000000</td>\n",
       "    </tr>\n",
       "    <tr>\n",
       "      <th>75%</th>\n",
       "      <td>1240.000000</td>\n",
       "      <td>0.093797</td>\n",
       "      <td>0.427676</td>\n",
       "      <td>30.924015</td>\n",
       "      <td>29.000000</td>\n",
       "      <td>46.027564</td>\n",
       "      <td>11.000000</td>\n",
       "    </tr>\n",
       "    <tr>\n",
       "      <th>max</th>\n",
       "      <td>4569.000000</td>\n",
       "      <td>0.290000</td>\n",
       "      <td>0.594872</td>\n",
       "      <td>53.571429</td>\n",
       "      <td>117.000000</td>\n",
       "      <td>128.000000</td>\n",
       "      <td>19.000000</td>\n",
       "    </tr>\n",
       "  </tbody>\n",
       "</table>\n",
       "</div>"
      ],
      "text/plain": [
       "            length     polarity  subjectivity  mean_sentence_length  \\\n",
       "count  2000.000000  2000.000000   2000.000000           2000.000000   \n",
       "mean    965.439500     0.056852      0.387228             27.821021   \n",
       "std     445.391875     0.055530      0.063004              5.003114   \n",
       "min      41.000000    -0.198056      0.000000              9.175000   \n",
       "25%     628.000000     0.023458      0.349520             24.435619   \n",
       "50%     937.500000     0.058852      0.391664             27.482051   \n",
       "75%    1240.000000     0.093797      0.427676             30.924015   \n",
       "max    4569.000000     0.290000      0.594872             53.571429   \n",
       "\n",
       "       num_paragraphs  mean_paragraph_length  headline_length  \n",
       "count     2000.000000            2000.000000      2000.000000  \n",
       "mean        23.463000              41.911288         9.963500  \n",
       "std         11.436653               7.812405         1.880674  \n",
       "min          1.000000              11.250000         3.000000  \n",
       "25%         16.000000              37.071206         9.000000  \n",
       "50%         22.000000              41.525000        10.000000  \n",
       "75%         29.000000              46.027564        11.000000  \n",
       "max        117.000000             128.000000        19.000000  "
      ]
     },
     "metadata": {},
     "output_type": "display_data"
    }
   ],
   "source": [
    "def get_length(text):\n",
    "    return len(text.split())\n",
    "\n",
    "df_1987['length'] = df_1987['text'].map(get_length)\n",
    "df_2017['length'] = df_2017['text'].map(get_length)\n",
    "df_1987['headline_length'] = df_1987['headline'].map(get_length)\n",
    "df_2017['headline_length'] = df_2017['headline'].map(get_length)\n",
    "display(df_1987.describe())\n",
    "display(df_2017.describe())"
   ]
  },
  {
   "cell_type": "markdown",
   "metadata": {},
   "source": [
    "The results are quite suprising—article and headline length are both significantly longer today than in 1987, on average. Plotting the distributions might uncover some further insights:"
   ]
  },
  {
   "cell_type": "code",
   "execution_count": 301,
   "metadata": {},
   "outputs": [
    {
     "data": {
      "image/png": "[encoded data removed]",
      "text/plain": [
       "<matplotlib.figure.Figure at 0x145dc3da0>"
      ]
     },
     "metadata": {},
     "output_type": "display_data"
    }
   ],
   "source": [
    "def plot_subplots(series, axis, my_color):\n",
    "    axis.hist(series, bins=np.linspace(0, 5000, 101)) # bucket size of 50\n",
    "    axis.set_ylim(0, 160)\n",
    "    axis.set_xlim(0, 5000)\n",
    "    axis.grid()\n",
    "\n",
    "fig, axs = plt.subplots(1,2)\n",
    "fig.set_size_inches(14, 4)\n",
    "\n",
    "plot_subplots(df_1987['length'], axs[0], 'b')\n",
    "plot_subplots(df_2017['length'], axs[1], 'r')\n",
    "fig.tight_layout()"
   ]
  },
  {
   "cell_type": "code",
   "execution_count": 310,
   "metadata": {},
   "outputs": [
    {
     "data": {
      "image/png": "[encoded data removed]",
      "text/plain": [
       "<matplotlib.figure.Figure at 0x145ddeef0>"
      ]
     },
     "metadata": {},
     "output_type": "display_data"
    }
   ],
   "source": [
    "def plot_subplots(series, axis, my_color):\n",
    "    axis.hist(series, bins=np.linspace(0, 25, 26)) # bucket size of 1\n",
    "    axis.set_ylim(0, 500)\n",
    "    axis.set_xlim(0, 25)\n",
    "    axis.grid()\n",
    "\n",
    "fig, axs = plt.subplots(1,2)\n",
    "fig.set_size_inches(14, 4)\n",
    "\n",
    "plot_subplots(df_1987['headline_length'], axs[0], 'b')\n",
    "plot_subplots(df_2017['headline_length'], axs[1], 'r')\n",
    "fig.tight_layout()"
   ]
  },
  {
   "cell_type": "markdown",
   "metadata": {},
   "source": [
    "The distributions are quite different. The 1987 article length histogram seems roughly bimodal, with many of the articles being either very short (under 250 words) or of moderate length (500-1000 words). Relatively few articles of length greater than 1000 words are published. On the other hand, the distribution for 2017 appears to be closer to normal, albeit more strongly right-skewed. Articles below 250 words in length are nearly completely absent, and half or so of the articles appear to be at least 1000 words long.\n",
    "\n",
    "The abundance of very short articles in the 1987 dataset is quite interesting. [Here's](https://www.nytimes.com/1987/12/28/world/new-zealand-fire-kills-3.html) the shortest article of them all—just one sentence long!"
   ]
  },
  {
   "cell_type": "code",
   "execution_count": 303,
   "metadata": {
    "scrolled": false
   },
   "outputs": [
    {
     "name": "stdout",
     "output_type": "stream",
     "text": [
      "27\n",
      "New Zealand Fire Kills 3\n",
      "\n",
      "                    AUCKLAND, New Zealand, Dec. 27— \n",
      "                    Fire destroyed a hotel today and killed three children in the town of Taneatua, 150 miles south of Auckland, the police said.        \n",
      "https://www.nytimes.com/1987/12/28/world/new-zealand-fire-kills-3.html\n"
     ]
    }
   ],
   "source": [
    "len_min_idx = df_1987['length'].argmin()\n",
    "print(df_1987.iloc[len_min_idx]['length'])\n",
    "print(df_1987.iloc[len_min_idx]['headline'])\n",
    "print(df_1987.iloc[len_min_idx]['text'])\n",
    "print(df_1987.iloc[len_min_idx]['web_url'])"
   ]
  },
  {
   "cell_type": "markdown",
   "metadata": {},
   "source": [
    "Why might the distributions be so different? One factor could be that some of the long articles from 2017 are web-only publications, free of restrictions on length imposed by the print newspaper format. Finding an easy explanation for the decline of very short articles is a bit more difficult. It seems reasonable to attribute this change to an evolution in the Times's underlying protocols over time—articles of just a few sentences have simply fallen out of favor.\n",
    "\n",
    "Sentiment analysis is another avenue of exploration for comparing these sets of articles. The polarity () and subjectivity () of a text can be obtained easily using the [TextBlob library](https://textblob.readthedocs.io/en/dev/), which provides a simple API for common NLP tasks. (I eventually move on to using nltk for modeling purposes, but since this is a first foray into NLP, TextBlob was an attractive option.) The polarity and subjectivity can be added to the dataframes as with the length."
   ]
  },
  {
   "cell_type": "code",
   "execution_count": 17,
   "metadata": {
    "collapsed": true
   },
   "outputs": [],
   "source": [
    "def get_polarity(text):\n",
    "    return TextBlob(text).sentiment.polarity\n",
    "\n",
    "def get_subjectivity(text):\n",
    "    return TextBlob(text).sentiment.subjectivity\n",
    "\n",
    "df_1987['polarity'] = df_1987['text'].map(get_polarity)\n",
    "df_2017['polarity'] = df_2017['text'].map(get_polarity)\n",
    "\n",
    "df_1987['subjectivity'] = df_1987['text'].map(get_subjectivity)\n",
    "df_2017['subjectivity'] = df_2017['text'].map(get_subjectivity)"
   ]
  },
  {
   "cell_type": "code",
   "execution_count": 18,
   "metadata": {},
   "outputs": [
    {
     "data": {
      "text/html": [
       "<div>\n",
       "<style>\n",
       "    .dataframe thead tr:only-child th {\n",
       "        text-align: right;\n",
       "    }\n",
       "\n",
       "    .dataframe thead th {\n",
       "        text-align: left;\n",
       "    }\n",
       "\n",
       "    .dataframe tbody tr th {\n",
       "        vertical-align: top;\n",
       "    }\n",
       "</style>\n",
       "<table border=\"1\" class=\"dataframe\">\n",
       "  <thead>\n",
       "    <tr style=\"text-align: right;\">\n",
       "      <th></th>\n",
       "      <th>length</th>\n",
       "      <th>polarity</th>\n",
       "      <th>subjectivity</th>\n",
       "    </tr>\n",
       "  </thead>\n",
       "  <tbody>\n",
       "    <tr>\n",
       "      <th>count</th>\n",
       "      <td>2000.000000</td>\n",
       "      <td>2000.000000</td>\n",
       "      <td>2000.000000</td>\n",
       "    </tr>\n",
       "    <tr>\n",
       "      <th>mean</th>\n",
       "      <td>4132.574500</td>\n",
       "      <td>0.054308</td>\n",
       "      <td>0.373114</td>\n",
       "    </tr>\n",
       "    <tr>\n",
       "      <th>std</th>\n",
       "      <td>2196.749994</td>\n",
       "      <td>0.073908</td>\n",
       "      <td>0.095442</td>\n",
       "    </tr>\n",
       "    <tr>\n",
       "      <th>min</th>\n",
       "      <td>207.000000</td>\n",
       "      <td>-0.500000</td>\n",
       "      <td>0.000000</td>\n",
       "    </tr>\n",
       "    <tr>\n",
       "      <th>25%</th>\n",
       "      <td>2280.250000</td>\n",
       "      <td>0.012960</td>\n",
       "      <td>0.325357</td>\n",
       "    </tr>\n",
       "    <tr>\n",
       "      <th>50%</th>\n",
       "      <td>4379.500000</td>\n",
       "      <td>0.055558</td>\n",
       "      <td>0.379736</td>\n",
       "    </tr>\n",
       "    <tr>\n",
       "      <th>75%</th>\n",
       "      <td>5821.000000</td>\n",
       "      <td>0.096405</td>\n",
       "      <td>0.428867</td>\n",
       "    </tr>\n",
       "    <tr>\n",
       "      <th>max</th>\n",
       "      <td>9185.000000</td>\n",
       "      <td>0.600000</td>\n",
       "      <td>1.000000</td>\n",
       "    </tr>\n",
       "  </tbody>\n",
       "</table>\n",
       "</div>"
      ],
      "text/plain": [
       "            length     polarity  subjectivity\n",
       "count  2000.000000  2000.000000   2000.000000\n",
       "mean   4132.574500     0.054308      0.373114\n",
       "std    2196.749994     0.073908      0.095442\n",
       "min     207.000000    -0.500000      0.000000\n",
       "25%    2280.250000     0.012960      0.325357\n",
       "50%    4379.500000     0.055558      0.379736\n",
       "75%    5821.000000     0.096405      0.428867\n",
       "max    9185.000000     0.600000      1.000000"
      ]
     },
     "execution_count": 18,
     "metadata": {},
     "output_type": "execute_result"
    }
   ],
   "source": [
    "df_1987.describe()"
   ]
  },
  {
   "cell_type": "code",
   "execution_count": 19,
   "metadata": {},
   "outputs": [
    {
     "data": {
      "text/html": [
       "<div>\n",
       "<style>\n",
       "    .dataframe thead tr:only-child th {\n",
       "        text-align: right;\n",
       "    }\n",
       "\n",
       "    .dataframe thead th {\n",
       "        text-align: left;\n",
       "    }\n",
       "\n",
       "    .dataframe tbody tr th {\n",
       "        vertical-align: top;\n",
       "    }\n",
       "</style>\n",
       "<table border=\"1\" class=\"dataframe\">\n",
       "  <thead>\n",
       "    <tr style=\"text-align: right;\">\n",
       "      <th></th>\n",
       "      <th>length</th>\n",
       "      <th>polarity</th>\n",
       "      <th>subjectivity</th>\n",
       "    </tr>\n",
       "  </thead>\n",
       "  <tbody>\n",
       "    <tr>\n",
       "      <th>count</th>\n",
       "      <td>2000.000000</td>\n",
       "      <td>2000.000000</td>\n",
       "      <td>2000.000000</td>\n",
       "    </tr>\n",
       "    <tr>\n",
       "      <th>mean</th>\n",
       "      <td>5860.143000</td>\n",
       "      <td>0.056852</td>\n",
       "      <td>0.387228</td>\n",
       "    </tr>\n",
       "    <tr>\n",
       "      <th>std</th>\n",
       "      <td>2684.739854</td>\n",
       "      <td>0.055530</td>\n",
       "      <td>0.063004</td>\n",
       "    </tr>\n",
       "    <tr>\n",
       "      <th>min</th>\n",
       "      <td>257.000000</td>\n",
       "      <td>-0.198056</td>\n",
       "      <td>0.000000</td>\n",
       "    </tr>\n",
       "    <tr>\n",
       "      <th>25%</th>\n",
       "      <td>3855.750000</td>\n",
       "      <td>0.023458</td>\n",
       "      <td>0.349520</td>\n",
       "    </tr>\n",
       "    <tr>\n",
       "      <th>50%</th>\n",
       "      <td>5693.000000</td>\n",
       "      <td>0.058852</td>\n",
       "      <td>0.391664</td>\n",
       "    </tr>\n",
       "    <tr>\n",
       "      <th>75%</th>\n",
       "      <td>7488.250000</td>\n",
       "      <td>0.093797</td>\n",
       "      <td>0.427676</td>\n",
       "    </tr>\n",
       "    <tr>\n",
       "      <th>max</th>\n",
       "      <td>28138.000000</td>\n",
       "      <td>0.290000</td>\n",
       "      <td>0.594872</td>\n",
       "    </tr>\n",
       "  </tbody>\n",
       "</table>\n",
       "</div>"
      ],
      "text/plain": [
       "             length     polarity  subjectivity\n",
       "count   2000.000000  2000.000000   2000.000000\n",
       "mean    5860.143000     0.056852      0.387228\n",
       "std     2684.739854     0.055530      0.063004\n",
       "min      257.000000    -0.198056      0.000000\n",
       "25%     3855.750000     0.023458      0.349520\n",
       "50%     5693.000000     0.058852      0.391664\n",
       "75%     7488.250000     0.093797      0.427676\n",
       "max    28138.000000     0.290000      0.594872"
      ]
     },
     "execution_count": 19,
     "metadata": {},
     "output_type": "execute_result"
    }
   ],
   "source": [
    "df_2017.describe()"
   ]
  },
  {
   "cell_type": "markdown",
   "metadata": {},
   "source": [
    "These sentiment measures are actually very similar between the two groups. "
   ]
  },
  {
   "cell_type": "code",
   "execution_count": 20,
   "metadata": {},
   "outputs": [
    {
     "data": {
      "text/plain": [
       "1287"
      ]
     },
     "execution_count": 20,
     "metadata": {},
     "output_type": "execute_result"
    }
   ],
   "source": [
    "df_1987['subjectivity'].argmax()"
   ]
  },
  {
   "cell_type": "code",
   "execution_count": 22,
   "metadata": {},
   "outputs": [
    {
     "name": "stdout",
     "output_type": "stream",
     "text": [
      "\n",
      "                    BURLINGTON, Vt., Dec. 19— \n",
      "                    Look USA, a distributor of French-made alpine ski bindings, is recalling 13 models to fix a defect that could cause the binding to release unexpectedly, the company said Friday.        \n",
      "                    Consumers were being asked to return the 30,000 bindings to authorized dealers for adjustment, a company spokesman said. The company had received complaints about the bindings but no injuries have been reported, he added.        \n",
      "                    The models being recalled are ZRC, ZR, ZP, ZL, ZRJ, X-9, X-7, X-5, XH, XF, XFL, XG, XGR.        \n"
     ]
    }
   ],
   "source": [
    "print(df_1987.iloc[1287]['text'])"
   ]
  },
  {
   "cell_type": "code",
   "execution_count": 24,
   "metadata": {},
   "outputs": [
    {
     "name": "stdout",
     "output_type": "stream",
     "text": [
      "\n",
      "                    BOSTON, Dec. 18— \n",
      "                    John S. Driscoll has been named editor of The Boston Globe, where he has worked for 30 years and has been the executive editor since 1982. Benjamin Taylor, assistant executive editor, has been named executive editor. Both appointments were made Thursday and are effective Jan. 1. The Globe has not had an editor since Michael C. Janeway resigned in March 1986. The title was dropped then and executive editor became the highest position in the editorial department.        \n"
     ]
    }
   ],
   "source": [
    "print(df_1987.iloc[df_1987['polarity'].argmax()]['text'])"
   ]
  },
  {
   "cell_type": "code",
   "execution_count": 311,
   "metadata": {
    "scrolled": true
   },
   "outputs": [
    {
     "data": {
      "text/plain": [
       "<matplotlib.collections.PathCollection at 0x1462e5ef0>"
      ]
     },
     "execution_count": 311,
     "metadata": {},
     "output_type": "execute_result"
    },
    {
     "data": {
      "image/png": "[encoded data removed]",
      "text/plain": [
       "<matplotlib.figure.Figure at 0x14632c208>"
      ]
     },
     "metadata": {},
     "output_type": "display_data"
    }
   ],
   "source": [
    "plt.scatter(df_1987['length'], df_1987['subjectivity'])"
   ]
  },
  {
   "cell_type": "code",
   "execution_count": 312,
   "metadata": {},
   "outputs": [
    {
     "data": {
      "text/plain": [
       "<matplotlib.collections.PathCollection at 0x146239c18>"
      ]
     },
     "execution_count": 312,
     "metadata": {},
     "output_type": "execute_result"
    },
    {
     "data": {
      "image/png": "[encoded data removed]",
      "text/plain": [
       "<matplotlib.figure.Figure at 0x113860390>"
      ]
     },
     "metadata": {},
     "output_type": "display_data"
    }
   ],
   "source": [
    "plt.scatter(df_2017['length'], df_2017['subjectivity'])"
   ]
  },
  {
   "cell_type": "code",
   "execution_count": 42,
   "metadata": {},
   "outputs": [
    {
     "name": "stdout",
     "output_type": "stream",
     "text": [
      "one down\n"
     ]
    }
   ],
   "source": [
    "def get_mean_sentence_length(text):\n",
    "    sentences = TextBlob(text).sentences\n",
    "    lengths = []\n",
    "    for s in sentences:\n",
    "        lengths.append(len(s.words))\n",
    "    return sum(lengths) / len(lengths)\n",
    "\n",
    "df_1987['mean_sentence_length'] = df_1987['text'].map(get_mean_sentence_length)\n",
    "df_2017['mean_sentence_length'] = df_2017['text'].map(get_mean_sentence_length)"
   ]
  },
  {
   "cell_type": "code",
   "execution_count": 43,
   "metadata": {
    "collapsed": true
   },
   "outputs": [
    {
     "data": {
      "text/html": [
       "<div>\n",
       "<style>\n",
       "    .dataframe thead tr:only-child th {\n",
       "        text-align: right;\n",
       "    }\n",
       "\n",
       "    .dataframe thead th {\n",
       "        text-align: left;\n",
       "    }\n",
       "\n",
       "    .dataframe tbody tr th {\n",
       "        vertical-align: top;\n",
       "    }\n",
       "</style>\n",
       "<table border=\"1\" class=\"dataframe\">\n",
       "  <thead>\n",
       "    <tr style=\"text-align: right;\">\n",
       "      <th></th>\n",
       "      <th>length</th>\n",
       "      <th>polarity</th>\n",
       "      <th>subjectivity</th>\n",
       "      <th>mean_sentence_length</th>\n",
       "    </tr>\n",
       "  </thead>\n",
       "  <tbody>\n",
       "    <tr>\n",
       "      <th>count</th>\n",
       "      <td>2000.000000</td>\n",
       "      <td>2000.000000</td>\n",
       "      <td>2000.000000</td>\n",
       "      <td>2000.000000</td>\n",
       "    </tr>\n",
       "    <tr>\n",
       "      <th>mean</th>\n",
       "      <td>4132.574500</td>\n",
       "      <td>0.054308</td>\n",
       "      <td>0.373114</td>\n",
       "      <td>23.949195</td>\n",
       "    </tr>\n",
       "    <tr>\n",
       "      <th>std</th>\n",
       "      <td>2196.749994</td>\n",
       "      <td>0.073908</td>\n",
       "      <td>0.095442</td>\n",
       "      <td>4.259242</td>\n",
       "    </tr>\n",
       "    <tr>\n",
       "      <th>min</th>\n",
       "      <td>207.000000</td>\n",
       "      <td>-0.500000</td>\n",
       "      <td>0.000000</td>\n",
       "      <td>9.090909</td>\n",
       "    </tr>\n",
       "    <tr>\n",
       "      <th>25%</th>\n",
       "      <td>2280.250000</td>\n",
       "      <td>0.012960</td>\n",
       "      <td>0.325357</td>\n",
       "      <td>21.063497</td>\n",
       "    </tr>\n",
       "    <tr>\n",
       "      <th>50%</th>\n",
       "      <td>4379.500000</td>\n",
       "      <td>0.055558</td>\n",
       "      <td>0.379736</td>\n",
       "      <td>23.630604</td>\n",
       "    </tr>\n",
       "    <tr>\n",
       "      <th>75%</th>\n",
       "      <td>5821.000000</td>\n",
       "      <td>0.096405</td>\n",
       "      <td>0.428867</td>\n",
       "      <td>26.464493</td>\n",
       "    </tr>\n",
       "    <tr>\n",
       "      <th>max</th>\n",
       "      <td>9185.000000</td>\n",
       "      <td>0.600000</td>\n",
       "      <td>1.000000</td>\n",
       "      <td>57.500000</td>\n",
       "    </tr>\n",
       "  </tbody>\n",
       "</table>\n",
       "</div>"
      ],
      "text/plain": [
       "            length     polarity  subjectivity  mean_sentence_length\n",
       "count  2000.000000  2000.000000   2000.000000           2000.000000\n",
       "mean   4132.574500     0.054308      0.373114             23.949195\n",
       "std    2196.749994     0.073908      0.095442              4.259242\n",
       "min     207.000000    -0.500000      0.000000              9.090909\n",
       "25%    2280.250000     0.012960      0.325357             21.063497\n",
       "50%    4379.500000     0.055558      0.379736             23.630604\n",
       "75%    5821.000000     0.096405      0.428867             26.464493\n",
       "max    9185.000000     0.600000      1.000000             57.500000"
      ]
     },
     "execution_count": 43,
     "metadata": {},
     "output_type": "execute_result"
    }
   ],
   "source": [
    "df_1987.describe()"
   ]
  },
  {
   "cell_type": "code",
   "execution_count": 44,
   "metadata": {
    "collapsed": true
   },
   "outputs": [
    {
     "data": {
      "text/html": [
       "<div>\n",
       "<style>\n",
       "    .dataframe thead tr:only-child th {\n",
       "        text-align: right;\n",
       "    }\n",
       "\n",
       "    .dataframe thead th {\n",
       "        text-align: left;\n",
       "    }\n",
       "\n",
       "    .dataframe tbody tr th {\n",
       "        vertical-align: top;\n",
       "    }\n",
       "</style>\n",
       "<table border=\"1\" class=\"dataframe\">\n",
       "  <thead>\n",
       "    <tr style=\"text-align: right;\">\n",
       "      <th></th>\n",
       "      <th>length</th>\n",
       "      <th>polarity</th>\n",
       "      <th>subjectivity</th>\n",
       "      <th>mean_sentence_length</th>\n",
       "    </tr>\n",
       "  </thead>\n",
       "  <tbody>\n",
       "    <tr>\n",
       "      <th>count</th>\n",
       "      <td>2000.000000</td>\n",
       "      <td>2000.000000</td>\n",
       "      <td>2000.000000</td>\n",
       "      <td>2000.000000</td>\n",
       "    </tr>\n",
       "    <tr>\n",
       "      <th>mean</th>\n",
       "      <td>5860.143000</td>\n",
       "      <td>0.056852</td>\n",
       "      <td>0.387228</td>\n",
       "      <td>27.821021</td>\n",
       "    </tr>\n",
       "    <tr>\n",
       "      <th>std</th>\n",
       "      <td>2684.739854</td>\n",
       "      <td>0.055530</td>\n",
       "      <td>0.063004</td>\n",
       "      <td>5.003114</td>\n",
       "    </tr>\n",
       "    <tr>\n",
       "      <th>min</th>\n",
       "      <td>257.000000</td>\n",
       "      <td>-0.198056</td>\n",
       "      <td>0.000000</td>\n",
       "      <td>9.175000</td>\n",
       "    </tr>\n",
       "    <tr>\n",
       "      <th>25%</th>\n",
       "      <td>3855.750000</td>\n",
       "      <td>0.023458</td>\n",
       "      <td>0.349520</td>\n",
       "      <td>24.435619</td>\n",
       "    </tr>\n",
       "    <tr>\n",
       "      <th>50%</th>\n",
       "      <td>5693.000000</td>\n",
       "      <td>0.058852</td>\n",
       "      <td>0.391664</td>\n",
       "      <td>27.482051</td>\n",
       "    </tr>\n",
       "    <tr>\n",
       "      <th>75%</th>\n",
       "      <td>7488.250000</td>\n",
       "      <td>0.093797</td>\n",
       "      <td>0.427676</td>\n",
       "      <td>30.924015</td>\n",
       "    </tr>\n",
       "    <tr>\n",
       "      <th>max</th>\n",
       "      <td>28138.000000</td>\n",
       "      <td>0.290000</td>\n",
       "      <td>0.594872</td>\n",
       "      <td>53.571429</td>\n",
       "    </tr>\n",
       "  </tbody>\n",
       "</table>\n",
       "</div>"
      ],
      "text/plain": [
       "             length     polarity  subjectivity  mean_sentence_length\n",
       "count   2000.000000  2000.000000   2000.000000           2000.000000\n",
       "mean    5860.143000     0.056852      0.387228             27.821021\n",
       "std     2684.739854     0.055530      0.063004              5.003114\n",
       "min      257.000000    -0.198056      0.000000              9.175000\n",
       "25%     3855.750000     0.023458      0.349520             24.435619\n",
       "50%     5693.000000     0.058852      0.391664             27.482051\n",
       "75%     7488.250000     0.093797      0.427676             30.924015\n",
       "max    28138.000000     0.290000      0.594872             53.571429"
      ]
     },
     "execution_count": 44,
     "metadata": {},
     "output_type": "execute_result"
    }
   ],
   "source": [
    "df_2017.describe()"
   ]
  },
  {
   "cell_type": "code",
   "execution_count": 78,
   "metadata": {
    "scrolled": true
   },
   "outputs": [
    {
     "data": {
      "text/plain": [
       "<matplotlib.collections.PathCollection at 0x115d4b940>"
      ]
     },
     "execution_count": 78,
     "metadata": {},
     "output_type": "execute_result"
    },
    {
     "data": {
      "image/png": "[encoded data removed]",
      "text/plain": [
       "<matplotlib.figure.Figure at 0x111dfbba8>"
      ]
     },
     "metadata": {},
     "output_type": "display_data"
    }
   ],
   "source": [
    "plt.scatter(df_1987['length'], df_1987['mean_sentence_length'])"
   ]
  },
  {
   "cell_type": "code",
   "execution_count": 79,
   "metadata": {},
   "outputs": [
    {
     "data": {
      "text/plain": [
       "<matplotlib.collections.PathCollection at 0x119e16128>"
      ]
     },
     "execution_count": 79,
     "metadata": {},
     "output_type": "execute_result"
    },
    {
     "data": {
      "image/png": "[encoded data removed]",
      "text/plain": [
       "<matplotlib.figure.Figure at 0x11a212f98>"
      ]
     },
     "metadata": {},
     "output_type": "display_data"
    }
   ],
   "source": [
    "plt.scatter(df_2017['length'], df_2017['mean_sentence_length'])"
   ]
  },
  {
   "cell_type": "code",
   "execution_count": 83,
   "metadata": {
    "collapsed": true
   },
   "outputs": [],
   "source": [
    "def get_num_paragraphs(text):\n",
    "    paragraphs = text.split('\\n')\n",
    "    for p in paragraphs:\n",
    "        if len(p) == 0:\n",
    "            paragraphs.remove(p)\n",
    "    return len(paragraphs)\n",
    "\n",
    "df_1987['num_paragraphs'] = df_1987['text'].map(get_num_paragraphs) # useless\n",
    "df_2017['num_paragraphs'] = df_2017['text'].map(get_num_paragraphs)\n",
    "\n",
    "df_1987['mean_paragraph_length'] = df_1987['length']/df_1987['num_paragraphs']\n",
    "df_2017['mean_paragraph_length'] = df_2017['length']/df_2017['num_paragraphs']"
   ]
  },
  {
   "cell_type": "code",
   "execution_count": 84,
   "metadata": {},
   "outputs": [
    {
     "data": {
      "text/html": [
       "<div>\n",
       "<style>\n",
       "    .dataframe thead tr:only-child th {\n",
       "        text-align: right;\n",
       "    }\n",
       "\n",
       "    .dataframe thead th {\n",
       "        text-align: left;\n",
       "    }\n",
       "\n",
       "    .dataframe tbody tr th {\n",
       "        vertical-align: top;\n",
       "    }\n",
       "</style>\n",
       "<table border=\"1\" class=\"dataframe\">\n",
       "  <thead>\n",
       "    <tr style=\"text-align: right;\">\n",
       "      <th></th>\n",
       "      <th>length</th>\n",
       "      <th>polarity</th>\n",
       "      <th>subjectivity</th>\n",
       "      <th>mean_sentence_length</th>\n",
       "      <th>num_paragraphs</th>\n",
       "      <th>mean_paragraph_length</th>\n",
       "    </tr>\n",
       "  </thead>\n",
       "  <tbody>\n",
       "    <tr>\n",
       "      <th>count</th>\n",
       "      <td>2000.00000</td>\n",
       "      <td>2000.000000</td>\n",
       "      <td>2000.000000</td>\n",
       "      <td>2000.000000</td>\n",
       "      <td>2000.000000</td>\n",
       "      <td>2000.000000</td>\n",
       "    </tr>\n",
       "    <tr>\n",
       "      <th>mean</th>\n",
       "      <td>603.60700</td>\n",
       "      <td>0.054308</td>\n",
       "      <td>0.373114</td>\n",
       "      <td>23.949195</td>\n",
       "      <td>15.685000</td>\n",
       "      <td>38.142043</td>\n",
       "    </tr>\n",
       "    <tr>\n",
       "      <th>std</th>\n",
       "      <td>326.77331</td>\n",
       "      <td>0.073908</td>\n",
       "      <td>0.095442</td>\n",
       "      <td>4.259242</td>\n",
       "      <td>7.924404</td>\n",
       "      <td>13.690003</td>\n",
       "    </tr>\n",
       "    <tr>\n",
       "      <th>min</th>\n",
       "      <td>27.00000</td>\n",
       "      <td>-0.500000</td>\n",
       "      <td>0.000000</td>\n",
       "      <td>9.090909</td>\n",
       "      <td>1.000000</td>\n",
       "      <td>10.800000</td>\n",
       "    </tr>\n",
       "    <tr>\n",
       "      <th>25%</th>\n",
       "      <td>324.00000</td>\n",
       "      <td>0.012960</td>\n",
       "      <td>0.325357</td>\n",
       "      <td>21.063497</td>\n",
       "      <td>9.000000</td>\n",
       "      <td>32.075549</td>\n",
       "    </tr>\n",
       "    <tr>\n",
       "      <th>50%</th>\n",
       "      <td>631.00000</td>\n",
       "      <td>0.055558</td>\n",
       "      <td>0.379736</td>\n",
       "      <td>23.630604</td>\n",
       "      <td>16.000000</td>\n",
       "      <td>37.343137</td>\n",
       "    </tr>\n",
       "    <tr>\n",
       "      <th>75%</th>\n",
       "      <td>857.25000</td>\n",
       "      <td>0.096405</td>\n",
       "      <td>0.428867</td>\n",
       "      <td>26.464493</td>\n",
       "      <td>21.000000</td>\n",
       "      <td>42.894737</td>\n",
       "    </tr>\n",
       "    <tr>\n",
       "      <th>max</th>\n",
       "      <td>1361.00000</td>\n",
       "      <td>0.600000</td>\n",
       "      <td>1.000000</td>\n",
       "      <td>57.500000</td>\n",
       "      <td>44.000000</td>\n",
       "      <td>346.500000</td>\n",
       "    </tr>\n",
       "  </tbody>\n",
       "</table>\n",
       "</div>"
      ],
      "text/plain": [
       "           length     polarity  subjectivity  mean_sentence_length  \\\n",
       "count  2000.00000  2000.000000   2000.000000           2000.000000   \n",
       "mean    603.60700     0.054308      0.373114             23.949195   \n",
       "std     326.77331     0.073908      0.095442              4.259242   \n",
       "min      27.00000    -0.500000      0.000000              9.090909   \n",
       "25%     324.00000     0.012960      0.325357             21.063497   \n",
       "50%     631.00000     0.055558      0.379736             23.630604   \n",
       "75%     857.25000     0.096405      0.428867             26.464493   \n",
       "max    1361.00000     0.600000      1.000000             57.500000   \n",
       "\n",
       "       num_paragraphs  mean_paragraph_length  \n",
       "count     2000.000000            2000.000000  \n",
       "mean        15.685000              38.142043  \n",
       "std          7.924404              13.690003  \n",
       "min          1.000000              10.800000  \n",
       "25%          9.000000              32.075549  \n",
       "50%         16.000000              37.343137  \n",
       "75%         21.000000              42.894737  \n",
       "max         44.000000             346.500000  "
      ]
     },
     "metadata": {},
     "output_type": "display_data"
    },
    {
     "data": {
      "text/html": [
       "<div>\n",
       "<style>\n",
       "    .dataframe thead tr:only-child th {\n",
       "        text-align: right;\n",
       "    }\n",
       "\n",
       "    .dataframe thead th {\n",
       "        text-align: left;\n",
       "    }\n",
       "\n",
       "    .dataframe tbody tr th {\n",
       "        vertical-align: top;\n",
       "    }\n",
       "</style>\n",
       "<table border=\"1\" class=\"dataframe\">\n",
       "  <thead>\n",
       "    <tr style=\"text-align: right;\">\n",
       "      <th></th>\n",
       "      <th>length</th>\n",
       "      <th>polarity</th>\n",
       "      <th>subjectivity</th>\n",
       "      <th>mean_sentence_length</th>\n",
       "      <th>num_paragraphs</th>\n",
       "      <th>mean_paragraph_length</th>\n",
       "    </tr>\n",
       "  </thead>\n",
       "  <tbody>\n",
       "    <tr>\n",
       "      <th>count</th>\n",
       "      <td>2000.000000</td>\n",
       "      <td>2000.000000</td>\n",
       "      <td>2000.000000</td>\n",
       "      <td>2000.000000</td>\n",
       "      <td>2000.000000</td>\n",
       "      <td>2000.000000</td>\n",
       "    </tr>\n",
       "    <tr>\n",
       "      <th>mean</th>\n",
       "      <td>965.439500</td>\n",
       "      <td>0.056852</td>\n",
       "      <td>0.387228</td>\n",
       "      <td>27.821021</td>\n",
       "      <td>23.463000</td>\n",
       "      <td>41.911288</td>\n",
       "    </tr>\n",
       "    <tr>\n",
       "      <th>std</th>\n",
       "      <td>445.391875</td>\n",
       "      <td>0.055530</td>\n",
       "      <td>0.063004</td>\n",
       "      <td>5.003114</td>\n",
       "      <td>11.436653</td>\n",
       "      <td>7.812405</td>\n",
       "    </tr>\n",
       "    <tr>\n",
       "      <th>min</th>\n",
       "      <td>41.000000</td>\n",
       "      <td>-0.198056</td>\n",
       "      <td>0.000000</td>\n",
       "      <td>9.175000</td>\n",
       "      <td>1.000000</td>\n",
       "      <td>11.250000</td>\n",
       "    </tr>\n",
       "    <tr>\n",
       "      <th>25%</th>\n",
       "      <td>628.000000</td>\n",
       "      <td>0.023458</td>\n",
       "      <td>0.349520</td>\n",
       "      <td>24.435619</td>\n",
       "      <td>16.000000</td>\n",
       "      <td>37.071206</td>\n",
       "    </tr>\n",
       "    <tr>\n",
       "      <th>50%</th>\n",
       "      <td>937.500000</td>\n",
       "      <td>0.058852</td>\n",
       "      <td>0.391664</td>\n",
       "      <td>27.482051</td>\n",
       "      <td>22.000000</td>\n",
       "      <td>41.525000</td>\n",
       "    </tr>\n",
       "    <tr>\n",
       "      <th>75%</th>\n",
       "      <td>1240.000000</td>\n",
       "      <td>0.093797</td>\n",
       "      <td>0.427676</td>\n",
       "      <td>30.924015</td>\n",
       "      <td>29.000000</td>\n",
       "      <td>46.027564</td>\n",
       "    </tr>\n",
       "    <tr>\n",
       "      <th>max</th>\n",
       "      <td>4569.000000</td>\n",
       "      <td>0.290000</td>\n",
       "      <td>0.594872</td>\n",
       "      <td>53.571429</td>\n",
       "      <td>117.000000</td>\n",
       "      <td>128.000000</td>\n",
       "    </tr>\n",
       "  </tbody>\n",
       "</table>\n",
       "</div>"
      ],
      "text/plain": [
       "            length     polarity  subjectivity  mean_sentence_length  \\\n",
       "count  2000.000000  2000.000000   2000.000000           2000.000000   \n",
       "mean    965.439500     0.056852      0.387228             27.821021   \n",
       "std     445.391875     0.055530      0.063004              5.003114   \n",
       "min      41.000000    -0.198056      0.000000              9.175000   \n",
       "25%     628.000000     0.023458      0.349520             24.435619   \n",
       "50%     937.500000     0.058852      0.391664             27.482051   \n",
       "75%    1240.000000     0.093797      0.427676             30.924015   \n",
       "max    4569.000000     0.290000      0.594872             53.571429   \n",
       "\n",
       "       num_paragraphs  mean_paragraph_length  \n",
       "count     2000.000000            2000.000000  \n",
       "mean        23.463000              41.911288  \n",
       "std         11.436653               7.812405  \n",
       "min          1.000000              11.250000  \n",
       "25%         16.000000              37.071206  \n",
       "50%         22.000000              41.525000  \n",
       "75%         29.000000              46.027564  \n",
       "max        117.000000             128.000000  "
      ]
     },
     "metadata": {},
     "output_type": "display_data"
    }
   ],
   "source": [
    "display(df_1987.describe())\n",
    "display(df_2017.describe())"
   ]
  },
  {
   "cell_type": "code",
   "execution_count": 96,
   "metadata": {
    "collapsed": true
   },
   "outputs": [],
   "source": [
    "df_1987.to_pickle('df_1987.pickle')\n",
    "df_2017.to_pickle('df_2017.pickle')"
   ]
  },
  {
   "cell_type": "code",
   "execution_count": 25,
   "metadata": {
    "collapsed": true
   },
   "outputs": [],
   "source": [
    "from random import shuffle\n",
    "from textblob.classifiers import NaiveBayesClassifier\n",
    "import nltk\n",
    "\n",
    "train = []\n",
    "test = []\n",
    "\n",
    "for idx, row in df_1987.iterrows():\n",
    "    tup = (row['headline'], '1987')\n",
    "    if idx < 500:\n",
    "        train.append(tup)\n",
    "    elif idx < 750:\n",
    "        test.append(tup)\n",
    "        \n",
    "for idx, row in df_2017.iterrows():\n",
    "    tup = (row['headline'], '2017')\n",
    "    if idx < 500:\n",
    "        train.append(tup)\n",
    "    elif idx < 750:\n",
    "        test.append(tup)\n",
    "        \n",
    "shuffle(train)\n",
    "shuffle(test)"
   ]
  },
  {
   "cell_type": "code",
   "execution_count": 205,
   "metadata": {
    "scrolled": true
   },
   "outputs": [],
   "source": [
    "all_headlines = []\n",
    "for h in df_1987['headline']:\n",
    "    all_headlines.append((h, '1987'))\n",
    "for h in df_2017['headline']:\n",
    "    all_headlines.append((h, '2017'))\n",
    "\n",
    "tokenizer = nltk.RegexpTokenizer(r'\\w+')\n",
    "\n",
    "pos_bigrams = []\n",
    "pos_trigrams = []\n",
    "for h in all_headlines:\n",
    "    tokenized = tokenizer.tokenize(h[0].lower())\n",
    "    pos_tagged = nltk.pos_tag(tokenized)\n",
    "    for i in range(len(pos_tagged) - 1):\n",
    "        pos_bigrams.append((pos_tagged[i][1], pos_tagged[i+1][1]))\n",
    "        '''if i == len(pos_tagged) - 2:\n",
    "            break\n",
    "        pos_trigrams.append((pos_tagged[i][1], pos_tagged[i+1][1], pos_tagged[i+2][1]))'''"
   ]
  },
  {
   "cell_type": "code",
   "execution_count": 210,
   "metadata": {},
   "outputs": [
    {
     "name": "stdout",
     "output_type": "stream",
     "text": [
      "300\n",
      "474\n"
     ]
    },
    {
     "data": {
      "text/plain": [
       "298"
      ]
     },
     "execution_count": 210,
     "metadata": {},
     "output_type": "execute_result"
    }
   ],
   "source": [
    "all_bigrams = nltk.FreqDist(pos_bigrams)\n",
    "common_bigrams_list = list(all_bigrams.most_common())[:300]\n",
    "bigram_features = [b[0] for b in common_bigrams_list]\n",
    "\n",
    "print(len(bigram_features))\n",
    "\n",
    "avoid = [('RB', 'CC'), ('CC', 'VBD')]\n",
    "for a in avoid:\n",
    "    if a in bigram_features:\n",
    "        bigram_features.remove(a)\n",
    "\n",
    "all_trigrams = nltk.FreqDist(pos_trigrams)\n",
    "common_trigrams_list = list(all_trigrams.most_common())[:800]\n",
    "trigram_features = [b[0] for b in common_trigrams_list]\n",
    "print(len(all_bigrams))\n",
    "len(bigram_features)"
   ]
  },
  {
   "cell_type": "code",
   "execution_count": 251,
   "metadata": {},
   "outputs": [],
   "source": [
    "def get_ngram_features(headline):\n",
    "    features = {}\n",
    "    tokenized = tokenizer.tokenize(headline.lower())\n",
    "    pos_tagged = nltk.pos_tag(tokenized)\n",
    "    \n",
    "    headline_bigrams = []\n",
    "    for i in range(len(pos_tagged) - 1):\n",
    "        headline_bigrams.append((pos_tagged[i][1], pos_tagged[i+1][1]))\n",
    "        \n",
    "    for b in bigram_features:\n",
    "        features['contains {}'.format(b)] = b in headline_bigrams\n",
    "    '''\n",
    "    headline_trigrams = []\n",
    "    for i in range(len(pos_tagged) - 2):\n",
    "        headline_trigrams.append((pos_tagged[i][1], pos_tagged[i+1][1], pos_tagged[i+2][1]))\n",
    "        \n",
    "    for b in trigram_features:\n",
    "        features['contains {}'.format(b)] = b in headline_trigrams'''\n",
    "        \n",
    "    return features"
   ]
  },
  {
   "cell_type": "code",
   "execution_count": 252,
   "metadata": {},
   "outputs": [],
   "source": [
    "#print(list(all_bigrams.most_common()))\n",
    "\n",
    "featuresets = [(get_ngram_features(h), y) for (h,y) in all_headlines]\n",
    "shuffle(featuresets)"
   ]
  },
  {
   "cell_type": "code",
   "execution_count": 178,
   "metadata": {
    "collapsed": true
   },
   "outputs": [],
   "source": [
    "train, test = featuresets[:1600], featuresets[1600:]\n",
    "\n",
    "#classifier = nltk.DecisionTreeClassifier.train(train)"
   ]
  },
  {
   "cell_type": "code",
   "execution_count": 109,
   "metadata": {},
   "outputs": [
    {
     "data": {
      "text/plain": [
       "0.62"
      ]
     },
     "execution_count": 109,
     "metadata": {},
     "output_type": "execute_result"
    }
   ],
   "source": [
    "nltk.classify.accuracy(classifier, test)"
   ]
  },
  {
   "cell_type": "code",
   "execution_count": 179,
   "metadata": {},
   "outputs": [],
   "source": [
    "classifier2 = nltk.NaiveBayesClassifier.train(train)"
   ]
  },
  {
   "cell_type": "code",
   "execution_count": 180,
   "metadata": {},
   "outputs": [
    {
     "data": {
      "text/plain": [
       "0.6833333333333333"
      ]
     },
     "execution_count": 180,
     "metadata": {},
     "output_type": "execute_result"
    }
   ],
   "source": [
    "nltk.classify.accuracy(classifier2, test)"
   ]
  },
  {
   "cell_type": "code",
   "execution_count": 181,
   "metadata": {
    "scrolled": true
   },
   "outputs": [
    {
     "name": "stdout",
     "output_type": "stream",
     "text": [
      "Most Informative Features\n",
      "  contains ('WP', 'VBD') = True             2017 : 1987   =     11.8 : 1.0\n",
      "  contains ('CC', 'VBD') = True             2017 : 1987   =      7.7 : 1.0\n",
      " contains ('VBD', 'VBN') = True             2017 : 1987   =      5.7 : 1.0\n",
      "  contains ('WRB', 'NN') = True             2017 : 1987   =      5.0 : 1.0\n",
      "   contains ('VB', 'VB') = True             2017 : 1987   =      4.6 : 1.0\n",
      "   contains ('IN', 'RB') = True             2017 : 1987   =      4.4 : 1.0\n",
      "   contains ('RP', 'JJ') = True             2017 : 1987   =      4.4 : 1.0\n",
      "  contains ('VBN', 'RP') = True             2017 : 1987   =      4.4 : 1.0\n",
      "   contains ('JJ', 'MD') = True             2017 : 1987   =      4.4 : 1.0\n",
      "  contains ('VB', 'PRP') = True             2017 : 1987   =      4.4 : 1.0\n",
      "  contains ('JJR', 'NN') = True             2017 : 1987   =      4.4 : 1.0\n",
      "  contains ('WP', 'VBZ') = True             2017 : 1987   =      3.7 : 1.0\n",
      "  contains ('RB', 'PRP') = True             2017 : 1987   =      3.7 : 1.0\n",
      "  contains ('VBG', 'RB') = True             2017 : 1987   =      3.7 : 1.0\n",
      "  contains ('VBD', 'CD') = True             1987 : 2017   =      3.6 : 1.0\n"
     ]
    }
   ],
   "source": [
    "classifier2.show_most_informative_features(15)"
   ]
  },
  {
   "cell_type": "code",
   "execution_count": 272,
   "metadata": {},
   "outputs": [
    {
     "data": {
      "text/plain": [
       "0.713"
      ]
     },
     "execution_count": 272,
     "metadata": {},
     "output_type": "execute_result"
    }
   ],
   "source": [
    "shuffle(featuresets)\n",
    "train, test = featuresets[:3000], featuresets[3000:]\n",
    "classifier3 = nltk.NaiveBayesClassifier.train(train)\n",
    "nltk.classify.accuracy(classifier3, test)"
   ]
  },
  {
   "cell_type": "code",
   "execution_count": 273,
   "metadata": {
    "scrolled": true
   },
   "outputs": [
    {
     "name": "stdout",
     "output_type": "stream",
     "text": [
      "Most Informative Features\n",
      "  contains ('JJS', 'CD') = True             2017 : 1987   =     10.9 : 1.0\n",
      " contains ('VB', 'PRP$') = True             2017 : 1987   =      9.5 : 1.0\n",
      " contains ('VBG', 'PRP') = True             2017 : 1987   =      6.9 : 1.0\n",
      "   contains ('JJ', 'VB') = True             2017 : 1987   =      6.2 : 1.0\n",
      "  contains ('WP', 'VBD') = True             2017 : 1987   =      5.8 : 1.0\n",
      "  contains ('RB', 'PRP') = True             2017 : 1987   =      5.6 : 1.0\n",
      "  contains ('TO', 'VBG') = True             2017 : 1987   =      4.9 : 1.0\n",
      "  contains ('RBR', 'JJ') = True             2017 : 1987   =      4.9 : 1.0\n",
      " contains ('PRP', 'VBP') = True             2017 : 1987   =      4.7 : 1.0\n",
      "   contains ('JJ', 'RB') = True             2017 : 1987   =      4.7 : 1.0\n",
      "   contains ('NN', 'WP') = True             2017 : 1987   =      4.6 : 1.0\n",
      "  contains ('PRP', 'IN') = True             2017 : 1987   =      4.5 : 1.0\n",
      " contains ('VBP', 'PRP') = True             2017 : 1987   =      4.5 : 1.0\n",
      "  contains ('IN', 'JJS') = True             2017 : 1987   =      4.3 : 1.0\n",
      "  contains ('PRP', 'VB') = True             2017 : 1987   =      4.3 : 1.0\n",
      "  contains ('WRB', 'TO') = True             2017 : 1987   =      4.3 : 1.0\n",
      " contains ('VBZ', 'VBP') = True             2017 : 1987   =      4.1 : 1.0\n",
      "contains ('VBG', 'PRP$') = True             2017 : 1987   =      4.1 : 1.0\n",
      "  contains ('RB', 'VBP') = True             2017 : 1987   =      4.1 : 1.0\n",
      "  contains ('WP', 'VBZ') = True             2017 : 1987   =      4.1 : 1.0\n",
      "  contains ('WRB', 'NN') = True             2017 : 1987   =      4.1 : 1.0\n",
      "   contains ('RP', 'JJ') = True             2017 : 1987   =      3.8 : 1.0\n",
      "  contains ('NNS', 'WP') = True             2017 : 1987   =      3.7 : 1.0\n",
      "  contains ('RB', 'VBZ') = True             2017 : 1987   =      3.7 : 1.0\n",
      "  contains ('VBD', 'RP') = True             2017 : 1987   =      3.7 : 1.0\n",
      "   contains ('RB', 'DT') = True             2017 : 1987   =      3.7 : 1.0\n",
      " contains ('VBG', 'VBN') = True             2017 : 1987   =      3.6 : 1.0\n",
      " contains ('VBD', 'PRP') = True             2017 : 1987   =      3.6 : 1.0\n",
      "  contains ('VBN', 'RP') = True             2017 : 1987   =      3.6 : 1.0\n",
      "  contains ('JJ', 'NNP') = True             2017 : 1987   =      3.6 : 1.0\n",
      "  contains ('VBP', 'RP') = True             2017 : 1987   =      3.6 : 1.0\n",
      "  contains ('PRP', 'MD') = True             2017 : 1987   =      3.5 : 1.0\n",
      "   contains ('TO', 'JJ') = True             2017 : 1987   =      3.4 : 1.0\n",
      "  contains ('NN', 'WRB') = True             2017 : 1987   =      3.4 : 1.0\n",
      "  contains ('CD', 'VBP') = True             1987 : 2017   =      3.3 : 1.0\n",
      "  contains ('NN', 'PRP') = True             2017 : 1987   =      3.3 : 1.0\n",
      "  contains ('VBN', 'RB') = True             2017 : 1987   =      3.2 : 1.0\n",
      "  contains ('IN', 'PRP') = True             2017 : 1987   =      3.2 : 1.0\n",
      "  contains ('NNS', 'RB') = True             2017 : 1987   =      3.0 : 1.0\n",
      " contains ('PRP$', 'NN') = True             2017 : 1987   =      3.0 : 1.0\n"
     ]
    }
   ],
   "source": [
    "classifier3.show_most_informative_features(40)"
   ]
  },
  {
   "cell_type": "code",
   "execution_count": 277,
   "metadata": {
    "scrolled": true
   },
   "outputs": [
    {
     "name": "stdout",
     "output_type": "stream",
     "text": [
      "1987: angola turning to the west to EQUIP ITS military\n",
      "2017: britain turns to chinese textbooks to IMPROVE ITS math scores\n",
      "2017: jordan moves to repeal MARRY YOUR rapist law\n",
      "2017: parents of charlie gard ill british infant abandon effort to PROLONG HIS life\n",
      "2017: when young chinese ask what S YOUR sign they don t mean dragon or rat\n",
      "2017: saudi king s son plotted effort to OUST HIS rival\n",
      "2017: decimated muslim brotherhood still inspires FEAR ITS members wonder why\n",
      "2017: what can trump do about north KOREA HIS options are few and risky\n",
      "2017: myocanada canadians let s HEAR YOUR voices in your anthem\n",
      "2017: lawmakers have bipartisan health ideas now to PERSUADE THEIR leaders\n",
      "2017: she s his rock his parole officer won t let him SEE HER\n",
      "2017: inquiry into bernie sanders s wife may TARNISH HIS liberal luster\n",
      "2017: confident and assertive gorsuch hurries to MAKE HIS mark\n",
      "2017: a doctor is killed and many FEEL OUR headline doesn t do her justice\n",
      "2017: pence to REPLACE HIS chief of staff\n",
      "2017: don t miss chance to rewrite tax code paul ryan will TELL HIS party\n",
      "2017: comey bluntly raises possibility of trump obstruction and CONDEMNS HIS lies\n"
     ]
    }
   ],
   "source": [
    "for h in all_headlines:\n",
    "    pos_bigrams = []\n",
    "    tokenized = tokenizer.tokenize(h[0].lower())\n",
    "    pos_tagged = nltk.pos_tag(tokenized)\n",
    "    for i in range(len(pos_tagged) - 1):\n",
    "        pos_bigrams.append((pos_tagged[i][1], pos_tagged[i+1][1]))\n",
    "    feat = ('VB', 'PRP$')\n",
    "    if feat in pos_bigrams:\n",
    "        idx = pos_bigrams.index(feat)\n",
    "        sp = tokenized\n",
    "        sp[idx] = sp[idx].upper()\n",
    "        sp[idx+1] = sp[idx+1].upper()\n",
    "        print('{}: {}'.format(h[1], ' '.join(sp)))"
   ]
  },
  {
   "cell_type": "code",
   "execution_count": 194,
   "metadata": {},
   "outputs": [
    {
     "data": {
      "text/plain": [
       "4000"
      ]
     },
     "execution_count": 194,
     "metadata": {},
     "output_type": "execute_result"
    }
   ],
   "source": [
    "len(all_headlines)"
   ]
  },
  {
   "cell_type": "code",
   "execution_count": 274,
   "metadata": {
    "collapsed": true
   },
   "outputs": [],
   "source": [
    "from nltk.metrics.scores import precision, recall\n",
    "from collections import defaultdict\n",
    "\n",
    "refsets = defaultdict(set)\n",
    "testsets = defaultdict(set)\n",
    "\n",
    "for i, (feats, year) in enumerate(test):\n",
    "    refsets[year].add(i)\n",
    "    observed = classifier3.classify(feats)\n",
    "    testsets[observed].add(i)"
   ]
  },
  {
   "cell_type": "code",
   "execution_count": 275,
   "metadata": {
    "scrolled": true
   },
   "outputs": [
    {
     "name": "stdout",
     "output_type": "stream",
     "text": [
      "1987 precision: 0.708411214953271\n",
      "1987 recall: 0.7431372549019608\n",
      "2017 precision: 0.7182795698924731\n",
      "2017 recall: 0.6816326530612244\n"
     ]
    }
   ],
   "source": [
    "print('1987 precision:', precision(refsets['1987'], testsets['1987']))\n",
    "print('1987 recall:', recall(refsets['1987'], testsets['1987']))\n",
    "print('2017 precision:', precision(refsets['2017'], testsets['2017']))\n",
    "print('2017 recall:', recall(refsets['2017'], testsets['2017']))"
   ]
  },
  {
   "cell_type": "code",
   "execution_count": 271,
   "metadata": {},
   "outputs": [
    {
     "data": {
      "text/plain": [
       "298"
      ]
     },
     "execution_count": 271,
     "metadata": {},
     "output_type": "execute_result"
    }
   ],
   "source": [
    "len(bigram_features)"
   ]
  },
  {
   "cell_type": "code",
   "execution_count": null,
   "metadata": {
    "collapsed": true
   },
   "outputs": [],
   "source": []
  },
  {
   "cell_type": "code",
   "execution_count": 278,
   "metadata": {
    "collapsed": true,
    "scrolled": true
   },
   "outputs": [],
   "source": [
    "all_articles = []\n",
    "for h in df_1987['text']:\n",
    "    all_articles.append((h, '1987'))\n",
    "for h in df_2017['text']:\n",
    "    all_articles.append((h, '2017'))\n",
    "\n",
    "tokenizer = nltk.RegexpTokenizer(r'\\w+')\n",
    "\n",
    "art_pos_bigrams = []\n",
    "for a in all_articles:\n",
    "    tokenized = tokenizer.tokenize(a[0].lower())\n",
    "    pos_tagged = nltk.pos_tag(tokenized)\n",
    "    for i in range(len(pos_tagged) - 1):\n",
    "        art_pos_bigrams.append((pos_tagged[i][1], pos_tagged[i+1][1]))\n",
    "        '''if i == len(pos_tagged) - 2:\n",
    "            break\n",
    "        pos_trigrams.append((pos_tagged[i][1], pos_tagged[i+1][1], pos_tagged[i+2][1]))'''"
   ]
  },
  {
   "cell_type": "code",
   "execution_count": 280,
   "metadata": {},
   "outputs": [
    {
     "name": "stdout",
     "output_type": "stream",
     "text": [
      "958\n"
     ]
    },
    {
     "data": {
      "text/plain": [
       "300"
      ]
     },
     "execution_count": 280,
     "metadata": {},
     "output_type": "execute_result"
    }
   ],
   "source": [
    "art_all_bigrams = nltk.FreqDist(art_pos_bigrams)\n",
    "art_common_bigrams_list = list(art_all_bigrams.most_common())[:300]\n",
    "art_bigram_features = [b[0] for b in art_common_bigrams_list]\n",
    "\n",
    "print(len(art_all_bigrams))\n",
    "len(art_bigram_features)"
   ]
  },
  {
   "cell_type": "code",
   "execution_count": 285,
   "metadata": {
    "collapsed": true
   },
   "outputs": [],
   "source": [
    "def get_art_ngram_features(article):\n",
    "    features = {}\n",
    "    tokenized = tokenizer.tokenize(article.lower())\n",
    "    pos_tagged = nltk.pos_tag(tokenized)\n",
    "    \n",
    "    article_bigrams = set()\n",
    "    for i in range(len(pos_tagged) - 1):\n",
    "        article_bigrams.add((pos_tagged[i][1], pos_tagged[i+1][1]))\n",
    "        \n",
    "    for b in art_bigram_features:\n",
    "        features['contains {}'.format(b)] = b in article_bigrams\n",
    "    '''\n",
    "    headline_trigrams = []\n",
    "    for i in range(len(pos_tagged) - 2):\n",
    "        headline_trigrams.append((pos_tagged[i][1], pos_tagged[i+1][1], pos_tagged[i+2][1]))\n",
    "        \n",
    "    for b in trigram_features:\n",
    "        features['contains {}'.format(b)] = b in headline_trigrams'''\n",
    "        \n",
    "    return features"
   ]
  },
  {
   "cell_type": "code",
   "execution_count": 286,
   "metadata": {},
   "outputs": [],
   "source": [
    "#print(list(all_bigrams.most_common()))\n",
    "\n",
    "art_featuresets = [(get_art_ngram_features(h), y) for (h,y) in all_articles]\n",
    "shuffle(art_featuresets)"
   ]
  },
  {
   "cell_type": "code",
   "execution_count": 287,
   "metadata": {},
   "outputs": [
    {
     "data": {
      "text/plain": [
       "0.638"
      ]
     },
     "execution_count": 287,
     "metadata": {},
     "output_type": "execute_result"
    }
   ],
   "source": [
    "shuffle(art_featuresets)\n",
    "train, test = art_featuresets[:3000], art_featuresets[3000:]\n",
    "classifier4 = nltk.NaiveBayesClassifier.train(train)\n",
    "nltk.classify.accuracy(classifier4, test)"
   ]
  },
  {
   "cell_type": "code",
   "execution_count": 288,
   "metadata": {
    "scrolled": true
   },
   "outputs": [
    {
     "name": "stdout",
     "output_type": "stream",
     "text": [
      "Most Informative Features\n",
      "   contains ('IN', 'JJ') = False            1987 : 2017   =     45.4 : 1.0\n",
      "  contains ('NN', 'NNS') = False            1987 : 2017   =     36.1 : 1.0\n",
      "  contains ('NNS', 'IN') = False            1987 : 2017   =     29.9 : 1.0\n",
      "   contains ('NN', 'CC') = False            1987 : 2017   =     28.4 : 1.0\n",
      "  contains ('VBN', 'IN') = False            1987 : 2017   =     19.2 : 1.0\n",
      "  contains ('VBD', 'IN') = False            1987 : 2017   =     12.9 : 1.0\n",
      "  contains ('JJ', 'NNS') = False            1987 : 2017   =      8.8 : 1.0\n",
      "  contains ('VBD', 'DT') = False            1987 : 2017   =      8.5 : 1.0\n",
      "   contains ('TO', 'VB') = False            1987 : 2017   =      7.4 : 1.0\n",
      "  contains ('IN', 'NNS') = False            1987 : 2017   =      6.6 : 1.0\n",
      "   contains ('VB', 'DT') = False            1987 : 2017   =      6.5 : 1.0\n",
      " contains ('PRP', 'VBD') = False            1987 : 2017   =      5.8 : 1.0\n",
      "   contains ('NN', 'DT') = False            1987 : 2017   =      5.7 : 1.0\n",
      "  contains ('VBD', 'JJ') = False            1987 : 2017   =      5.1 : 1.0\n",
      "   contains ('NN', 'TO') = False            1987 : 2017   =      4.8 : 1.0\n"
     ]
    }
   ],
   "source": [
    "classifier4.show_most_informative_features(40)"
   ]
  },
  {
   "cell_type": "code",
   "execution_count": 292,
   "metadata": {
    "scrolled": true
   },
   "outputs": [],
   "source": [
    "count_87 = 0\n",
    "count_17 = 0\n",
    "\n",
    "for h in all_articles:\n",
    "    pos_bigrams = set()\n",
    "    tokenized = tokenizer.tokenize(h[0].lower())\n",
    "    pos_tagged = nltk.pos_tag(tokenized)\n",
    "    for i in range(len(pos_tagged) - 1):\n",
    "        pos_bigrams.add((pos_tagged[i][1], pos_tagged[i+1][1]))\n",
    "    feat = ('IN', 'JJ')\n",
    "    if feat in pos_bigrams:\n",
    "        if h[1] == '1987':\n",
    "            count_87 += 1\n",
    "        else:\n",
    "            count_17 += 1\n",
    "        '''\n",
    "        idx = pos_bigrams.index(feat)\n",
    "        sp = tokenized\n",
    "        sp[idx] = sp[idx].upper()\n",
    "        sp[idx+1] = sp[idx+1].upper()\n",
    "        print('{}: {}'.format(h[1], ' '.join(sp[idx-5:idx+5])))'''"
   ]
  },
  {
   "cell_type": "code",
   "execution_count": 293,
   "metadata": {},
   "outputs": [
    {
     "name": "stdout",
     "output_type": "stream",
     "text": [
      "1906 1999\n"
     ]
    }
   ],
   "source": [
    "print(count_87, count_17)"
   ]
  },
  {
   "cell_type": "code",
   "execution_count": 274,
   "metadata": {
    "collapsed": true
   },
   "outputs": [],
   "source": [
    "from nltk.metrics.scores import precision, recall\n",
    "from collections import defaultdict\n",
    "\n",
    "refsets = defaultdict(set)\n",
    "testsets = defaultdict(set)\n",
    "\n",
    "for i, (feats, year) in enumerate(test):\n",
    "    refsets[year].add(i)\n",
    "    observed = classifier3.classify(feats)\n",
    "    testsets[observed].add(i)"
   ]
  },
  {
   "cell_type": "code",
   "execution_count": 275,
   "metadata": {
    "scrolled": true
   },
   "outputs": [
    {
     "name": "stdout",
     "output_type": "stream",
     "text": [
      "1987 precision: 0.708411214953271\n",
      "1987 recall: 0.7431372549019608\n",
      "2017 precision: 0.7182795698924731\n",
      "2017 recall: 0.6816326530612244\n"
     ]
    }
   ],
   "source": [
    "print('1987 precision:', precision(refsets['1987'], testsets['1987']))\n",
    "print('1987 recall:', recall(refsets['1987'], testsets['1987']))\n",
    "print('2017 precision:', precision(refsets['2017'], testsets['2017']))\n",
    "print('2017 recall:', recall(refsets['2017'], testsets['2017']))"
   ]
  }
 ],
 "metadata": {
  "kernelspec": {
   "display_name": "Python [conda env:py3]",
   "language": "python",
   "name": "conda-env-py3-py"
  },
  "language_info": {
   "codemirror_mode": {
    "name": "ipython",
    "version": 3
   },
   "file_extension": ".py",
   "mimetype": "text/x-python",
   "name": "python",
   "nbconvert_exporter": "python",
   "pygments_lexer": "ipython3",
   "version": "3.6.1"
  }
 },
 "nbformat": 4,
 "nbformat_minor": 2
}
